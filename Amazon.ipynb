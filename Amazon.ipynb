{
 "cells": [
  {
   "cell_type": "markdown",
   "id": "089aad7c-9db0-41d7-b9da-9548a3305839",
   "metadata": {},
   "source": [
    "## 1. Introduction 다시 써야함 "
   ]
  },
  {
   "cell_type": "markdown",
   "id": "7ba903f3-2daf-484e-92bc-2961c9624366",
   "metadata": {},
   "source": [
    "### Objective 다시"
   ]
  },
  {
   "cell_type": "markdown",
   "id": "ae6ae27b-d2b3-42ce-bbaa-dafca5618017",
   "metadata": {},
   "source": [
    "The goal of this project is to analyze the impact of the presence of **brand names** in **search queries** on the **purchase rate** (`pur_purchase_rate`), and to build a **purchase rate prediction model** based on this analysis.\n",
    "\n",
    "Through **exploratory data analysis (EDA)**, we will investigate the relationship between **search queries containing brand names** and **purchase rates**. The hypothesis is that **search queries containing brand names** will have a stronger impact on the purchase rate compared to queries without brand names. Based on this, we will build a **purchase rate prediction model** using the presence of brand names and other variables. \n",
    "\n",
    "The ultimate goal is to **predict the likelihood of a purchase** based on **search queries**.\n"
   ]
  },
  {
   "cell_type": "markdown",
   "id": "fe18ef34-fa53-42ac-937e-b7d40b744948",
   "metadata": {},
   "source": [
    "### Problem Definition 다시"
   ]
  },
  {
   "cell_type": "markdown",
   "id": "99083efe-428e-4c71-97be-ff5beda38ffb",
   "metadata": {},
   "source": [
    "This project focuses on analyzing the impact of the presence of **brand names** in **search queries** on the **purchase rate** and building a **purchase rate prediction model** based on this analysis. The project will proceed through the following steps:\n",
    "\n",
    "1. **Conversion Keyword Extraction**: Using the **TF-IDF (Term Frequency-Inverse Document Frequency)** method, important keywords will be extracted from the search query, helping identify **conversion keywords** that are more likely to result in purchases. By examining the weight of terms in the search queries, we will pinpoint which keywords drive higher purchase rates, including the impact of brand names.\n",
    "\n",
    "2. **Analyzing the impact of brand names on purchase rate**: We will analyze whether **search queries containing brand names** have a stronger influence on the **purchase rate** compared to queries without brand names. This will help us understand the relationship between **brand name presence** and **purchase rate**.\n",
    "\n",
    "3. **Classifying search queries**: After verifying the impact of brand names, we will build a **classification model** to differentiate between **search queries with brand names** and **search queries without brand names**. We will combine this information with other variables to create a model that predicts the **purchase rate**.\n",
    "\n",
    "4. **Purchase Rate Prediction**: A machine learning model will be developed to predict the purchase rate (`pur_purchase_rate`), estimating the likelihood that a search query will lead to a purchase. This model will integrate the identified conversion keywords and brand name presence, along with other variables, to predict **purchase likelihood** more accurately.\n",
    "\n",
    "\n"
   ]
  },
  {
   "cell_type": "markdown",
   "id": "c6b41232-4bb4-4a4b-b967-55c13154ddd1",
   "metadata": {},
   "source": [
    "### Dataset Description"
   ]
  },
  {
   "cell_type": "markdown",
   "id": "467f7410-7675-42bb-9686-8543ddc311b8",
   "metadata": {},
   "source": [
    "**Source**: This dataset is sourced from the Kaggle page [Amazon Advertising Performance Metrics](https://www.kaggle.com/datasets/mayuriawati/amazon-advertising-performance-metrics/data), which includes performance metrics related to Amazon's advertising campaigns. The dataset provides detailed information on search queries, click counts, cart interactions, and purchase rates related to online advertisements.\n",
    "\n",
    "**Key Variables**:\n",
    "\n",
    "```search_query```: Specific keywords or phrases used by customers when searching for products on Amazon.  \n",
    "```pur_purchase_rate```: The percentage of times the advertisement resulted in a customer making a purchase.  \n",
    "```clk_click_rate```: The percentage of times the advertisement was clicked on relative to the number of times it was displayed.  \n",
    "```imp_total_count```: The total number of times the advertisement was displayed to customers in search results or on product pages.  \n",
    "```clk_total_count```: The total number of clicks on the advertisement.  \n",
    "```cart_add_rate```: The percentage of times the advertisement resulted in a product being added to a customer's cart.  \n",
    "```cart_total_count```: The total number of times customers added a product to their cart after clicking on the advertisement.  \n"
   ]
  },
  {
   "cell_type": "markdown",
   "id": "4ef2aee5-8d70-4872-975f-7c9fcd49e2b8",
   "metadata": {},
   "source": [
    "## 2. Data Preparation and Preprocessing"
   ]
  },
  {
   "cell_type": "markdown",
   "id": "ece975d8-deb7-499d-a12a-2a3d48752aef",
   "metadata": {},
   "source": [
    "### 2.1 Initial Observation"
   ]
  },
  {
   "cell_type": "markdown",
   "id": "b3bf92ed-a1ed-40ec-829f-20a18939a654",
   "metadata": {},
   "source": [
    "#### Dataset Overview"
   ]
  },
  {
   "cell_type": "code",
   "execution_count": 1,
   "id": "0ec945d1-fe0d-4437-b142-eaedf8a7287f",
   "metadata": {},
   "outputs": [
    {
     "data": {
      "text/html": [
       "<div>\n",
       "<style scoped>\n",
       "    .dataframe tbody tr th:only-of-type {\n",
       "        vertical-align: middle;\n",
       "    }\n",
       "\n",
       "    .dataframe tbody tr th {\n",
       "        vertical-align: top;\n",
       "    }\n",
       "\n",
       "    .dataframe thead th {\n",
       "        text-align: right;\n",
       "    }\n",
       "</style>\n",
       "<table border=\"1\" class=\"dataframe\">\n",
       "  <thead>\n",
       "    <tr style=\"text-align: right;\">\n",
       "      <th></th>\n",
       "      <th>week</th>\n",
       "      <th>search_query</th>\n",
       "      <th>search_query_score</th>\n",
       "      <th>search_quey_volume</th>\n",
       "      <th>imp_total_count</th>\n",
       "      <th>imp_ASIN_count</th>\n",
       "      <th>imp_ASIN_share</th>\n",
       "      <th>clk_total_count</th>\n",
       "      <th>clk_click_rate</th>\n",
       "      <th>clk_ASIN_count</th>\n",
       "      <th>clk_ASIN_share</th>\n",
       "      <th>cart_total_count</th>\n",
       "      <th>cart_add_rate</th>\n",
       "      <th>cart_ASIN_count</th>\n",
       "      <th>cart_ASIN_share</th>\n",
       "      <th>pur_total_count</th>\n",
       "      <th>pur_purchase_rate</th>\n",
       "      <th>pur_ASIN_count</th>\n",
       "      <th>pur_ASIN_share</th>\n",
       "    </tr>\n",
       "  </thead>\n",
       "  <tbody>\n",
       "    <tr>\n",
       "      <th>0</th>\n",
       "      <td>Week 3</td>\n",
       "      <td>sensory toys</td>\n",
       "      <td>1</td>\n",
       "      <td>35253</td>\n",
       "      <td>815103</td>\n",
       "      <td>9794</td>\n",
       "      <td>1.2000</td>\n",
       "      <td>9358</td>\n",
       "      <td>26.5500</td>\n",
       "      <td>80</td>\n",
       "      <td>0.8500</td>\n",
       "      <td>2899</td>\n",
       "      <td>8.2200</td>\n",
       "      <td>45</td>\n",
       "      <td>1.5500</td>\n",
       "      <td>526</td>\n",
       "      <td>1.4900</td>\n",
       "      <td>11</td>\n",
       "      <td>2.09</td>\n",
       "    </tr>\n",
       "    <tr>\n",
       "      <th>1</th>\n",
       "      <td>Week 3</td>\n",
       "      <td>sensory toys for autistic children</td>\n",
       "      <td>2</td>\n",
       "      <td>23354</td>\n",
       "      <td>509901</td>\n",
       "      <td>2677</td>\n",
       "      <td>0.5300</td>\n",
       "      <td>7784</td>\n",
       "      <td>33.3300</td>\n",
       "      <td>39</td>\n",
       "      <td>0.5000</td>\n",
       "      <td>2086</td>\n",
       "      <td>8.9300</td>\n",
       "      <td>26</td>\n",
       "      <td>1.2500</td>\n",
       "      <td>325</td>\n",
       "      <td>1.3900</td>\n",
       "      <td>9</td>\n",
       "      <td>2.77</td>\n",
       "    </tr>\n",
       "    <tr>\n",
       "      <th>2</th>\n",
       "      <td>Week 3</td>\n",
       "      <td>sensory toys for kids 5-7</td>\n",
       "      <td>3</td>\n",
       "      <td>6531</td>\n",
       "      <td>141188</td>\n",
       "      <td>1959</td>\n",
       "      <td>1.3900</td>\n",
       "      <td>1812</td>\n",
       "      <td>27.7400</td>\n",
       "      <td>17</td>\n",
       "      <td>0.9400</td>\n",
       "      <td>550</td>\n",
       "      <td>8.4200</td>\n",
       "      <td>11</td>\n",
       "      <td>2.0000</td>\n",
       "      <td>116</td>\n",
       "      <td>1.7800</td>\n",
       "      <td>4</td>\n",
       "      <td>3.45</td>\n",
       "    </tr>\n",
       "    <tr>\n",
       "      <th>3</th>\n",
       "      <td>Week 3</td>\n",
       "      <td>autism sensory toys</td>\n",
       "      <td>4</td>\n",
       "      <td>6932</td>\n",
       "      <td>149596</td>\n",
       "      <td>2073</td>\n",
       "      <td>1.3900</td>\n",
       "      <td>1829</td>\n",
       "      <td>26.3800</td>\n",
       "      <td>29</td>\n",
       "      <td>1.5900</td>\n",
       "      <td>559</td>\n",
       "      <td>8.0600</td>\n",
       "      <td>11</td>\n",
       "      <td>1.9700</td>\n",
       "      <td>95</td>\n",
       "      <td>1.3700</td>\n",
       "      <td>3</td>\n",
       "      <td>3.16</td>\n",
       "    </tr>\n",
       "    <tr>\n",
       "      <th>4</th>\n",
       "      <td>Week 3</td>\n",
       "      <td>autism sensory products</td>\n",
       "      <td>5</td>\n",
       "      <td>4218</td>\n",
       "      <td>85699</td>\n",
       "      <td>1329</td>\n",
       "      <td>1.5500</td>\n",
       "      <td>1173</td>\n",
       "      <td>27.8100</td>\n",
       "      <td>11</td>\n",
       "      <td>0.9400</td>\n",
       "      <td>286</td>\n",
       "      <td>6.7800</td>\n",
       "      <td>5</td>\n",
       "      <td>1.7500</td>\n",
       "      <td>16</td>\n",
       "      <td>0.3800</td>\n",
       "      <td>1</td>\n",
       "      <td>6.25</td>\n",
       "    </tr>\n",
       "    <tr>\n",
       "      <th>...</th>\n",
       "      <td>...</td>\n",
       "      <td>...</td>\n",
       "      <td>...</td>\n",
       "      <td>...</td>\n",
       "      <td>...</td>\n",
       "      <td>...</td>\n",
       "      <td>...</td>\n",
       "      <td>...</td>\n",
       "      <td>...</td>\n",
       "      <td>...</td>\n",
       "      <td>...</td>\n",
       "      <td>...</td>\n",
       "      <td>...</td>\n",
       "      <td>...</td>\n",
       "      <td>...</td>\n",
       "      <td>...</td>\n",
       "      <td>...</td>\n",
       "      <td>...</td>\n",
       "      <td>...</td>\n",
       "    </tr>\n",
       "    <tr>\n",
       "      <th>2584</th>\n",
       "      <td>Week 30</td>\n",
       "      <td>crazy glow bungee bandz</td>\n",
       "      <td>96</td>\n",
       "      <td>2</td>\n",
       "      <td>85</td>\n",
       "      <td>5</td>\n",
       "      <td>0.0588</td>\n",
       "      <td>3</td>\n",
       "      <td>0.6000</td>\n",
       "      <td>2</td>\n",
       "      <td>0.6667</td>\n",
       "      <td>1</td>\n",
       "      <td>0.2000</td>\n",
       "      <td>1</td>\n",
       "      <td>1.0000</td>\n",
       "      <td>0</td>\n",
       "      <td>0.0000</td>\n",
       "      <td>0</td>\n",
       "      <td>-</td>\n",
       "    </tr>\n",
       "    <tr>\n",
       "      <th>2585</th>\n",
       "      <td>Week 30</td>\n",
       "      <td>squishy toys for autistic children</td>\n",
       "      <td>97</td>\n",
       "      <td>2</td>\n",
       "      <td>429</td>\n",
       "      <td>5</td>\n",
       "      <td>0.0117</td>\n",
       "      <td>19</td>\n",
       "      <td>0.8636</td>\n",
       "      <td>2</td>\n",
       "      <td>0.1053</td>\n",
       "      <td>5</td>\n",
       "      <td>0.2273</td>\n",
       "      <td>1</td>\n",
       "      <td>0.2000</td>\n",
       "      <td>0</td>\n",
       "      <td>0.0000</td>\n",
       "      <td>0</td>\n",
       "      <td>-</td>\n",
       "    </tr>\n",
       "    <tr>\n",
       "      <th>2586</th>\n",
       "      <td>Week 30</td>\n",
       "      <td>chew fidget</td>\n",
       "      <td>98</td>\n",
       "      <td>43</td>\n",
       "      <td>4249</td>\n",
       "      <td>39</td>\n",
       "      <td>0.0092</td>\n",
       "      <td>43</td>\n",
       "      <td>0.2966</td>\n",
       "      <td>1</td>\n",
       "      <td>0.0233</td>\n",
       "      <td>19</td>\n",
       "      <td>0.1310</td>\n",
       "      <td>1</td>\n",
       "      <td>0.0526</td>\n",
       "      <td>3</td>\n",
       "      <td>0.0207</td>\n",
       "      <td>0</td>\n",
       "      <td>0</td>\n",
       "    </tr>\n",
       "    <tr>\n",
       "      <th>2587</th>\n",
       "      <td>Week 30</td>\n",
       "      <td>huggy wuggy leg stretchy toys</td>\n",
       "      <td>99</td>\n",
       "      <td>1</td>\n",
       "      <td>38</td>\n",
       "      <td>2</td>\n",
       "      <td>0.0526</td>\n",
       "      <td>2</td>\n",
       "      <td>1.0000</td>\n",
       "      <td>2</td>\n",
       "      <td>1.0000</td>\n",
       "      <td>1</td>\n",
       "      <td>0.5000</td>\n",
       "      <td>1</td>\n",
       "      <td>1.0000</td>\n",
       "      <td>0</td>\n",
       "      <td>0.0000</td>\n",
       "      <td>0</td>\n",
       "      <td>-</td>\n",
       "    </tr>\n",
       "    <tr>\n",
       "      <th>2588</th>\n",
       "      <td>Week 30</td>\n",
       "      <td>silicone toys kids</td>\n",
       "      <td>100</td>\n",
       "      <td>1</td>\n",
       "      <td>57</td>\n",
       "      <td>2</td>\n",
       "      <td>0.0351</td>\n",
       "      <td>2</td>\n",
       "      <td>0.6667</td>\n",
       "      <td>2</td>\n",
       "      <td>1.0000</td>\n",
       "      <td>1</td>\n",
       "      <td>0.3333</td>\n",
       "      <td>1</td>\n",
       "      <td>1.0000</td>\n",
       "      <td>0</td>\n",
       "      <td>0.0000</td>\n",
       "      <td>0</td>\n",
       "      <td>-</td>\n",
       "    </tr>\n",
       "  </tbody>\n",
       "</table>\n",
       "<p>2589 rows × 19 columns</p>\n",
       "</div>"
      ],
      "text/plain": [
       "         week                        search_query  search_query_score  \\\n",
       "0      Week 3                        sensory toys                   1   \n",
       "1      Week 3  sensory toys for autistic children                   2   \n",
       "2      Week 3           sensory toys for kids 5-7                   3   \n",
       "3      Week 3                 autism sensory toys                   4   \n",
       "4      Week 3             autism sensory products                   5   \n",
       "...       ...                                 ...                 ...   \n",
       "2584  Week 30             crazy glow bungee bandz                  96   \n",
       "2585  Week 30  squishy toys for autistic children                  97   \n",
       "2586  Week 30                         chew fidget                  98   \n",
       "2587  Week 30       huggy wuggy leg stretchy toys                  99   \n",
       "2588  Week 30                  silicone toys kids                 100   \n",
       "\n",
       "      search_quey_volume  imp_total_count  imp_ASIN_count  imp_ASIN_share  \\\n",
       "0                  35253           815103            9794          1.2000   \n",
       "1                  23354           509901            2677          0.5300   \n",
       "2                   6531           141188            1959          1.3900   \n",
       "3                   6932           149596            2073          1.3900   \n",
       "4                   4218            85699            1329          1.5500   \n",
       "...                  ...              ...             ...             ...   \n",
       "2584                   2               85               5          0.0588   \n",
       "2585                   2              429               5          0.0117   \n",
       "2586                  43             4249              39          0.0092   \n",
       "2587                   1               38               2          0.0526   \n",
       "2588                   1               57               2          0.0351   \n",
       "\n",
       "      clk_total_count  clk_click_rate  clk_ASIN_count  clk_ASIN_share  \\\n",
       "0                9358         26.5500              80          0.8500   \n",
       "1                7784         33.3300              39          0.5000   \n",
       "2                1812         27.7400              17          0.9400   \n",
       "3                1829         26.3800              29          1.5900   \n",
       "4                1173         27.8100              11          0.9400   \n",
       "...               ...             ...             ...             ...   \n",
       "2584                3          0.6000               2          0.6667   \n",
       "2585               19          0.8636               2          0.1053   \n",
       "2586               43          0.2966               1          0.0233   \n",
       "2587                2          1.0000               2          1.0000   \n",
       "2588                2          0.6667               2          1.0000   \n",
       "\n",
       "      cart_total_count  cart_add_rate  cart_ASIN_count  cart_ASIN_share  \\\n",
       "0                 2899         8.2200               45           1.5500   \n",
       "1                 2086         8.9300               26           1.2500   \n",
       "2                  550         8.4200               11           2.0000   \n",
       "3                  559         8.0600               11           1.9700   \n",
       "4                  286         6.7800                5           1.7500   \n",
       "...                ...            ...              ...              ...   \n",
       "2584                 1         0.2000                1           1.0000   \n",
       "2585                 5         0.2273                1           0.2000   \n",
       "2586                19         0.1310                1           0.0526   \n",
       "2587                 1         0.5000                1           1.0000   \n",
       "2588                 1         0.3333                1           1.0000   \n",
       "\n",
       "      pur_total_count  pur_purchase_rate  pur_ASIN_count pur_ASIN_share  \n",
       "0                 526             1.4900              11           2.09  \n",
       "1                 325             1.3900               9           2.77  \n",
       "2                 116             1.7800               4           3.45  \n",
       "3                  95             1.3700               3           3.16  \n",
       "4                  16             0.3800               1           6.25  \n",
       "...               ...                ...             ...            ...  \n",
       "2584                0             0.0000               0              -  \n",
       "2585                0             0.0000               0              -  \n",
       "2586                3             0.0207               0              0  \n",
       "2587                0             0.0000               0              -  \n",
       "2588                0             0.0000               0              -  \n",
       "\n",
       "[2589 rows x 19 columns]"
      ]
     },
     "execution_count": 1,
     "metadata": {},
     "output_type": "execute_result"
    }
   ],
   "source": [
    "import pandas as pd\n",
    "\n",
    "# Loading Data\n",
    "# Make sure that the data file is in the same directory as the code file before running the code.\n",
    "\n",
    "df = pd.read_csv('week_data.csv')\n",
    "df"
   ]
  },
  {
   "cell_type": "markdown",
   "id": "2dfe6769-d6d1-4a02-bc73-bc9034bd4617",
   "metadata": {},
   "source": [
    "#### Data Structure"
   ]
  },
  {
   "cell_type": "code",
   "execution_count": 2,
   "id": "826dd86e-bc16-4431-bec7-28d625567e53",
   "metadata": {
    "scrolled": true
   },
   "outputs": [
    {
     "name": "stdout",
     "output_type": "stream",
     "text": [
      "Number of rows and columns: (2589, 19)\n",
      "Column names and data types:\n",
      "week                   object\n",
      "search_query           object\n",
      "search_query_score      int64\n",
      "search_quey_volume      int64\n",
      "imp_total_count         int64\n",
      "imp_ASIN_count          int64\n",
      "imp_ASIN_share        float64\n",
      "clk_total_count         int64\n",
      "clk_click_rate        float64\n",
      "clk_ASIN_count          int64\n",
      "clk_ASIN_share        float64\n",
      "cart_total_count        int64\n",
      "cart_add_rate         float64\n",
      "cart_ASIN_count         int64\n",
      "cart_ASIN_share       float64\n",
      "pur_total_count         int64\n",
      "pur_purchase_rate     float64\n",
      "pur_ASIN_count          int64\n",
      "pur_ASIN_share         object\n",
      "dtype: object\n",
      "First 5 rows of the dataset:\n",
      "     week                        search_query  search_query_score  \\\n",
      "0  Week 3                        sensory toys                   1   \n",
      "1  Week 3  sensory toys for autistic children                   2   \n",
      "2  Week 3           sensory toys for kids 5-7                   3   \n",
      "3  Week 3                 autism sensory toys                   4   \n",
      "4  Week 3             autism sensory products                   5   \n",
      "\n",
      "   search_quey_volume  imp_total_count  imp_ASIN_count  imp_ASIN_share  \\\n",
      "0               35253           815103            9794            1.20   \n",
      "1               23354           509901            2677            0.53   \n",
      "2                6531           141188            1959            1.39   \n",
      "3                6932           149596            2073            1.39   \n",
      "4                4218            85699            1329            1.55   \n",
      "\n",
      "   clk_total_count  clk_click_rate  clk_ASIN_count  clk_ASIN_share  \\\n",
      "0             9358           26.55              80            0.85   \n",
      "1             7784           33.33              39            0.50   \n",
      "2             1812           27.74              17            0.94   \n",
      "3             1829           26.38              29            1.59   \n",
      "4             1173           27.81              11            0.94   \n",
      "\n",
      "   cart_total_count  cart_add_rate  cart_ASIN_count  cart_ASIN_share  \\\n",
      "0              2899           8.22               45             1.55   \n",
      "1              2086           8.93               26             1.25   \n",
      "2               550           8.42               11             2.00   \n",
      "3               559           8.06               11             1.97   \n",
      "4               286           6.78                5             1.75   \n",
      "\n",
      "   pur_total_count  pur_purchase_rate  pur_ASIN_count pur_ASIN_share  \n",
      "0              526               1.49              11           2.09  \n",
      "1              325               1.39               9           2.77  \n",
      "2              116               1.78               4           3.45  \n",
      "3               95               1.37               3           3.16  \n",
      "4               16               0.38               1           6.25  \n",
      "Descriptive statistics:\n",
      "       search_query_score  search_quey_volume  imp_total_count  \\\n",
      "count         2589.000000        2.589000e+03     2.589000e+03   \n",
      "mean            50.650830        5.824466e+03     1.505285e+05   \n",
      "std             28.839804        7.619299e+04     1.780476e+06   \n",
      "min              1.000000        1.000000e+00     1.400000e+01   \n",
      "25%             26.000000        1.200000e+01     5.360000e+02   \n",
      "50%             51.000000        1.320000e+02     4.998000e+03   \n",
      "75%             76.000000        8.520000e+02     3.000800e+04   \n",
      "max            100.000000        3.313904e+06     7.767592e+07   \n",
      "\n",
      "       imp_ASIN_count  imp_ASIN_share  clk_total_count  clk_click_rate  \\\n",
      "count     2589.000000     2589.000000      2589.000000     2589.000000   \n",
      "mean       388.534569        0.466070      1638.595211       10.032488   \n",
      "std       2060.808086        1.072682     14487.693976       21.672678   \n",
      "min          1.000000        0.000000         1.000000        0.053300   \n",
      "25%         10.000000        0.007200         9.000000        0.278300   \n",
      "50%         60.000000        0.017900        67.000000        0.386600   \n",
      "75%        243.000000        0.070200       364.000000        1.000000   \n",
      "max      47625.000000       11.110000    570036.000000      200.000000   \n",
      "\n",
      "       clk_ASIN_count  clk_ASIN_share  cart_total_count  cart_add_rate  \\\n",
      "count     2589.000000     2589.000000       2589.000000    2589.000000   \n",
      "mean         4.851680        4.201744        511.405948       4.940433   \n",
      "std         20.379068       16.033115       4741.066090      15.224089   \n",
      "min          0.000000        0.000000          1.000000       0.011300   \n",
      "25%          1.000000        0.011400          4.000000       0.086500   \n",
      "50%          2.000000        0.076900         21.000000       0.153800   \n",
      "75%          3.000000        0.940000        110.000000       1.000000   \n",
      "max        574.000000      100.000000     184445.000000     150.000000   \n",
      "\n",
      "       cart_ASIN_count  cart_ASIN_share  pur_total_count  pur_purchase_rate  \\\n",
      "count      2589.000000      2589.000000      2589.000000        2589.000000   \n",
      "mean          2.696022         6.141506       129.700657           3.195256   \n",
      "std          10.327403        20.076685      1808.145754          13.511996   \n",
      "min           0.000000         0.000000         0.000000           0.000000   \n",
      "25%           1.000000         0.022700         1.000000           0.012700   \n",
      "50%           1.000000         0.166700         4.000000           0.037300   \n",
      "75%           2.000000         1.000000        21.000000           0.880000   \n",
      "max         301.000000       100.000000     76767.000000         150.000000   \n",
      "\n",
      "       pur_ASIN_count  \n",
      "count     2589.000000  \n",
      "mean         1.037466  \n",
      "std          3.356657  \n",
      "min          0.000000  \n",
      "25%          0.000000  \n",
      "50%          1.000000  \n",
      "75%          1.000000  \n",
      "max        103.000000  \n",
      "Dataset information:\n",
      "<class 'pandas.core.frame.DataFrame'>\n",
      "RangeIndex: 2589 entries, 0 to 2588\n",
      "Data columns (total 19 columns):\n",
      " #   Column              Non-Null Count  Dtype  \n",
      "---  ------              --------------  -----  \n",
      " 0   week                2589 non-null   object \n",
      " 1   search_query        2589 non-null   object \n",
      " 2   search_query_score  2589 non-null   int64  \n",
      " 3   search_quey_volume  2589 non-null   int64  \n",
      " 4   imp_total_count     2589 non-null   int64  \n",
      " 5   imp_ASIN_count      2589 non-null   int64  \n",
      " 6   imp_ASIN_share      2589 non-null   float64\n",
      " 7   clk_total_count     2589 non-null   int64  \n",
      " 8   clk_click_rate      2589 non-null   float64\n",
      " 9   clk_ASIN_count      2589 non-null   int64  \n",
      " 10  clk_ASIN_share      2589 non-null   float64\n",
      " 11  cart_total_count    2589 non-null   int64  \n",
      " 12  cart_add_rate       2589 non-null   float64\n",
      " 13  cart_ASIN_count     2589 non-null   int64  \n",
      " 14  cart_ASIN_share     2589 non-null   float64\n",
      " 15  pur_total_count     2589 non-null   int64  \n",
      " 16  pur_purchase_rate   2589 non-null   float64\n",
      " 17  pur_ASIN_count      2589 non-null   int64  \n",
      " 18  pur_ASIN_share      2575 non-null   object \n",
      "dtypes: float64(6), int64(10), object(3)\n",
      "memory usage: 384.4+ KB\n",
      "None\n"
     ]
    }
   ],
   "source": [
    "\n",
    "print(\"Number of rows and columns:\", df.shape) # Check the basic information of the dataset\n",
    "print(\"Column names and data types:\")\n",
    "print(df.dtypes)\n",
    "\n",
    "\n",
    "print(\"First 5 rows of the dataset:\") # Preview the first few rows of the dataset\n",
    "print(df.head())\n",
    "\n",
    "\n",
    "print(\"Descriptive statistics:\") # Summary statistics of the dataset\n",
    "print(df.describe())\n",
    "\n",
    "\n",
    "print(\"Dataset information:\") # Dataset info (data types, missing values, etc.)\n",
    "print(df.info())\n"
   ]
  },
  {
   "cell_type": "code",
   "execution_count": 3,
   "id": "ff66eb4e-290e-4417-8eaf-e7cebca79511",
   "metadata": {
    "scrolled": true
   },
   "outputs": [
    {
     "name": "stdout",
     "output_type": "stream",
     "text": [
      "Percentage of null values in 'pur_ASIN_share': 0.54%\n"
     ]
    }
   ],
   "source": [
    "null_percentage = (df['pur_ASIN_share'].isnull().sum() / len(df)) * 100\n",
    "null_percentage = round(null_percentage, 2)\n",
    "print(f\"Percentage of null values in 'pur_ASIN_share': {null_percentage}%\")"
   ]
  },
  {
   "cell_type": "markdown",
   "id": "49923017-2ad8-4e2b-b492-31511dda1fd1",
   "metadata": {},
   "source": [
    "### 2.2 Data Processing"
   ]
  },
  {
   "cell_type": "code",
   "execution_count": 4,
   "id": "f57f9d37-a7ed-42ff-af9c-e76ba6b97553",
   "metadata": {},
   "outputs": [],
   "source": [
    "# Missing Data\n",
    "# Most of the data is non-null, and the 'pur_ASIN_share' column, which is the only one containing null values, has less than 1% null values. Therefore, we will drop all rows with null data.\n",
    "df = df.dropna()"
   ]
  },
  {
   "cell_type": "code",
   "execution_count": 5,
   "id": "b3ee189c-7d1e-48d0-913a-71a477a18beb",
   "metadata": {},
   "outputs": [
    {
     "name": "stdout",
     "output_type": "stream",
     "text": [
      "Number of Duplicates:  0\n"
     ]
    }
   ],
   "source": [
    "# Duplicate Check\n",
    "duplicates = df.duplicated().sum() \n",
    "print(\"Number of Duplicates: \",duplicates)"
   ]
  },
  {
   "cell_type": "code",
   "execution_count": 6,
   "id": "8e332cbd-b784-4bd8-811a-8cb82e5b6afa",
   "metadata": {},
   "outputs": [],
   "source": [
    "#  Extract numeric part from 'week' column (e.g., 'Week 3' → 3) and convert it to integer type\n",
    "df.loc[:, 'week'] = df['week'].str.extract(r'(\\d+)').astype(int)"
   ]
  },
  {
   "cell_type": "code",
   "execution_count": 7,
   "id": "687cc3b5-bc94-43d8-873d-af28efe4330a",
   "metadata": {
    "scrolled": true
   },
   "outputs": [
    {
     "name": "stdout",
     "output_type": "stream",
     "text": [
      "1990\n"
     ]
    },
    {
     "name": "stderr",
     "output_type": "stream",
     "text": [
      "C:\\Users\\EunseoS\\AppData\\Local\\Temp\\ipykernel_30440\\3171575881.py:7: SettingWithCopyWarning: \n",
      "A value is trying to be set on a copy of a slice from a DataFrame.\n",
      "Try using .loc[row_indexer,col_indexer] = value instead\n",
      "\n",
      "See the caveats in the documentation: https://pandas.pydata.org/pandas-docs/stable/user_guide/indexing.html#returning-a-view-versus-a-copy\n",
      "  df.loc[:, 'CTR'] = df['clk_total_count'] / df['search_quey_volume'] * 100 # Click Through Rate = clk_total_count / search_query_volume * 100\n"
     ]
    }
   ],
   "source": [
    "# CHECKING DATA IS CORRECT \n",
    "\n",
    "# Based on a sample of data used for calculation, 'clk_click_rate' is calculated using the 'search_quey_volume' and 'clk_total_count' columns.\n",
    "# 'cart_add_rate' is calculated using 'search_query_volume' and 'cart_total_count'. \n",
    "# 'pur_purchase_rate' is calculated using 'search_query_volume' and 'pur_total_count'.\n",
    "\n",
    "df.loc[:, 'CTR'] = df['clk_total_count'] / df['search_quey_volume'] * 100 # Click Through Rate = clk_total_count / search_query_volume * 100\n",
    "df.loc[:, 'CTR'] = df['CTR'].round(2)\n",
    "difference_count = (df.loc[:, 'clk_click_rate'] != df.loc[:, 'CTR']).sum() # Count the number of rows where 'clk_click_rate' and 'CTR' are different\n",
    "\n",
    "\n",
    "print(difference_count) # Ignore the warning message\n"
   ]
  },
  {
   "cell_type": "code",
   "execution_count": 8,
   "id": "c4aa7579-d14d-4571-9351-806846f1455f",
   "metadata": {
    "scrolled": true
   },
   "outputs": [
    {
     "name": "stdout",
     "output_type": "stream",
     "text": [
      "     week                        search_query  search_query_score  \\\n",
      "124   NaN               sensory stretchy toys                  25   \n",
      "600   NaN                        sensory toys                   1   \n",
      "601   NaN  sensory toys for autistic children                   2   \n",
      "602   NaN          autistic toys for boys 5-7                   3   \n",
      "603   NaN  toys for autistic children age 5-7                   4   \n",
      "...   ...                                 ...                 ...   \n",
      "2584  NaN             crazy glow bungee bandz                  96   \n",
      "2585  NaN  squishy toys for autistic children                  97   \n",
      "2586  NaN                         chew fidget                  98   \n",
      "2587  NaN       huggy wuggy leg stretchy toys                  99   \n",
      "2588  NaN                  silicone toys kids                 100   \n",
      "\n",
      "      search_quey_volume  imp_total_count  imp_ASIN_count  imp_ASIN_share  \\\n",
      "124                   32              858              40          4.6600   \n",
      "600               132795          3017056           44620          0.0148   \n",
      "601                93823          2076431           17798          0.0086   \n",
      "602                13630           296697            2564          0.0086   \n",
      "603                16996           386371            2444          0.0063   \n",
      "...                  ...              ...             ...             ...   \n",
      "2584                   2               85               5          0.0588   \n",
      "2585                   2              429               5          0.0117   \n",
      "2586                  43             4249              39          0.0092   \n",
      "2587                   1               38               2          0.0526   \n",
      "2588                   1               57               2          0.0351   \n",
      "\n",
      "      clk_total_count  clk_click_rate  clk_ASIN_count  clk_ASIN_share  \\\n",
      "124                13         40.6300               4         30.7700   \n",
      "600             34809          0.2621             336          0.0097   \n",
      "601             28863          0.3076             169          0.0059   \n",
      "602              4000          0.2935              54          0.0135   \n",
      "603              5237          0.3081              42          0.0080   \n",
      "...               ...             ...             ...             ...   \n",
      "2584                3          0.6000               2          0.6667   \n",
      "2585               19          0.8636               2          0.1053   \n",
      "2586               43          0.2966               1          0.0233   \n",
      "2587                2          1.0000               2          1.0000   \n",
      "2588                2          0.6667               2          1.0000   \n",
      "\n",
      "      cart_total_count  cart_add_rate  cart_ASIN_count  cart_ASIN_share  \\\n",
      "124                  4        12.5000                2          50.0000   \n",
      "600              10032         0.0755              141           0.0141   \n",
      "601               8204         0.0874               73           0.0089   \n",
      "602               1113         0.0817               24           0.0216   \n",
      "603               1412         0.0831               22           0.0156   \n",
      "...                ...            ...              ...              ...   \n",
      "2584                 1         0.2000                1           1.0000   \n",
      "2585                 5         0.2273                1           0.2000   \n",
      "2586                19         0.1310                1           0.0526   \n",
      "2587                 1         0.5000                1           1.0000   \n",
      "2588                 1         0.3333                1           1.0000   \n",
      "\n",
      "      pur_total_count  pur_purchase_rate  pur_ASIN_count pur_ASIN_share  \\\n",
      "124                 1             3.1300               1            100   \n",
      "600              2106             0.0159              41         0.0195   \n",
      "601              1859             0.0198              16         0.0086   \n",
      "602               307             0.0225              10         0.0326   \n",
      "603               350             0.0206               6         0.0171   \n",
      "...               ...                ...             ...            ...   \n",
      "2584                0             0.0000               0              -   \n",
      "2585                0             0.0000               0              -   \n",
      "2586                3             0.0207               0              0   \n",
      "2587                0             0.0000               0              -   \n",
      "2588                0             0.0000               0              -   \n",
      "\n",
      "         CTR  \n",
      "124    40.62  \n",
      "600    26.21  \n",
      "601    30.76  \n",
      "602    29.35  \n",
      "603    30.81  \n",
      "...      ...  \n",
      "2584  150.00  \n",
      "2585  950.00  \n",
      "2586  100.00  \n",
      "2587  200.00  \n",
      "2588  200.00  \n",
      "\n",
      "[1990 rows x 20 columns]\n"
     ]
    }
   ],
   "source": [
    "differences = df[df['clk_click_rate'] != df['CTR']]\n",
    "print(differences)"
   ]
  },
  {
   "cell_type": "markdown",
   "id": "2fb6148f-034e-4cfc-94f5-23938a1eacb0",
   "metadata": {},
   "source": [
    "- Upon inspecting the data, we identified calculation errors in several rows. For example, row 124 contains a rounding error, and row 600 has a decimal point notation error.  \n",
    "- We will replace the values in these rows with the newly calculated CTR values and update the original `clk_click_rate` column accordingly. After updating the `clk_click_rate` column, we will delete the `CTR` column as it is no longer needed.\n"
   ]
  },
  {
   "cell_type": "code",
   "execution_count": 9,
   "id": "7f982547-6edf-432a-820c-48ea8d601cf8",
   "metadata": {
    "scrolled": true
   },
   "outputs": [],
   "source": [
    "df.loc[df['clk_click_rate'] != df['CTR'], 'clk_click_rate'] = df.loc[df['clk_click_rate'] != df['CTR'], 'CTR'].values # Replace 'clk_click_rate' values with the newly calculated 'CTR' values for the rows with differences\n",
    "df = df.drop(columns=['CTR'])"
   ]
  },
  {
   "cell_type": "markdown",
   "id": "7bd76323-c0c7-420b-adb8-b258dc64b0ec",
   "metadata": {},
   "source": [
    "- Apply the same logic to the ```cart_add_rate``` column and ```pur_purchase_rate``` as well."
   ]
  },
  {
   "cell_type": "code",
   "execution_count": 10,
   "id": "182bf9a9-327a-488f-ae18-ecbfc9b93233",
   "metadata": {},
   "outputs": [
    {
     "name": "stdout",
     "output_type": "stream",
     "text": [
      "1989\n"
     ]
    }
   ],
   "source": [
    "# cart_add_rate = cart_total_count / search_query_volume * 100\n",
    "# ATC(Add To Cart): The percentage of website visitors who add an item to their cart\n",
    "df.loc[:, 'ATC'] = df['cart_total_count'] / df['search_quey_volume'] * 100\n",
    "\n",
    "df.loc[:, 'ATC'] = df['ATC'].round(2) \n",
    "\n",
    "difference_count = (df['cart_add_rate'] != df['ATC']).sum() \n",
    "\n",
    "print(difference_count) "
   ]
  },
  {
   "cell_type": "code",
   "execution_count": 11,
   "id": "14ed08cc-7348-4b40-b9b3-9a5e449b32b1",
   "metadata": {
    "scrolled": true
   },
   "outputs": [
    {
     "name": "stdout",
     "output_type": "stream",
     "text": [
      "     week                        search_query  search_query_score  \\\n",
      "600   NaN                        sensory toys                   1   \n",
      "601   NaN  sensory toys for autistic children                   2   \n",
      "602   NaN          autistic toys for boys 5-7                   3   \n",
      "603   NaN  toys for autistic children age 5-7                   4   \n",
      "604   NaN                  bunmo sensory toys                   5   \n",
      "...   ...                                 ...                 ...   \n",
      "2584  NaN             crazy glow bungee bandz                  96   \n",
      "2585  NaN  squishy toys for autistic children                  97   \n",
      "2586  NaN                         chew fidget                  98   \n",
      "2587  NaN       huggy wuggy leg stretchy toys                  99   \n",
      "2588  NaN                  silicone toys kids                 100   \n",
      "\n",
      "      search_quey_volume  imp_total_count  imp_ASIN_count  imp_ASIN_share  \\\n",
      "600               132795          3017056           44620          0.0148   \n",
      "601                93823          2076431           17798          0.0086   \n",
      "602                13630           296697            2564          0.0086   \n",
      "603                16996           386371            2444          0.0063   \n",
      "604                  712            15970             867          0.0543   \n",
      "...                  ...              ...             ...             ...   \n",
      "2584                   2               85               5          0.0588   \n",
      "2585                   2              429               5          0.0117   \n",
      "2586                  43             4249              39          0.0092   \n",
      "2587                   1               38               2          0.0526   \n",
      "2588                   1               57               2          0.0351   \n",
      "\n",
      "      clk_total_count  clk_click_rate  clk_ASIN_count  clk_ASIN_share  \\\n",
      "600             34809           26.21             336          0.0097   \n",
      "601             28863           30.76             169          0.0059   \n",
      "602              4000           29.35              54          0.0135   \n",
      "603              5237           30.81              42          0.0080   \n",
      "604               388           54.49              41          0.1057   \n",
      "...               ...             ...             ...             ...   \n",
      "2584                3          150.00               2          0.6667   \n",
      "2585               19          950.00               2          0.1053   \n",
      "2586               43          100.00               1          0.0233   \n",
      "2587                2          200.00               2          1.0000   \n",
      "2588                2          200.00               2          1.0000   \n",
      "\n",
      "      cart_total_count  cart_add_rate  cart_ASIN_count  cart_ASIN_share  \\\n",
      "600              10032         0.0755              141           0.0141   \n",
      "601               8204         0.0874               73           0.0089   \n",
      "602               1113         0.0817               24           0.0216   \n",
      "603               1412         0.0831               22           0.0156   \n",
      "604                188         0.2640               18           0.0957   \n",
      "...                ...            ...              ...              ...   \n",
      "2584                 1         0.2000                1           1.0000   \n",
      "2585                 5         0.2273                1           0.2000   \n",
      "2586                19         0.1310                1           0.0526   \n",
      "2587                 1         0.5000                1           1.0000   \n",
      "2588                 1         0.3333                1           1.0000   \n",
      "\n",
      "      pur_total_count  pur_purchase_rate  pur_ASIN_count pur_ASIN_share  \\\n",
      "600              2106             0.0159              41         0.0195   \n",
      "601              1859             0.0198              16         0.0086   \n",
      "602               307             0.0225              10         0.0326   \n",
      "603               350             0.0206               6         0.0171   \n",
      "604                85             0.1194               8         0.0941   \n",
      "...               ...                ...             ...            ...   \n",
      "2584                0             0.0000               0              -   \n",
      "2585                0             0.0000               0              -   \n",
      "2586                3             0.0207               0              0   \n",
      "2587                0             0.0000               0              -   \n",
      "2588                0             0.0000               0              -   \n",
      "\n",
      "         ATC  \n",
      "600     7.55  \n",
      "601     8.74  \n",
      "602     8.17  \n",
      "603     8.31  \n",
      "604    26.40  \n",
      "...      ...  \n",
      "2584   50.00  \n",
      "2585  250.00  \n",
      "2586   44.19  \n",
      "2587  100.00  \n",
      "2588  100.00  \n",
      "\n",
      "[1989 rows x 20 columns]\n"
     ]
    }
   ],
   "source": [
    "differences = df[df['cart_add_rate'] != df['ATC']]\n",
    "print(differences)"
   ]
  },
  {
   "cell_type": "markdown",
   "id": "f459bf1c-7fb0-4000-bc7d-002d1bd1e40b",
   "metadata": {},
   "source": [
    "- Upon inspecting the data, we identified calculation errors in several rows. For example, row 600 has a decimal point notation error and row 2584 shows a calculation error.\n",
    "- We will replace the values in these rows with the newly calculated ATC values and update the original `cart_add_rate` column accordingly. After updating the `cart_add_rate` column, we will delete the `ATC` column as it is no longer needed."
   ]
  },
  {
   "cell_type": "code",
   "execution_count": 12,
   "id": "9975158f-3af8-49dd-8bef-777a60e338de",
   "metadata": {},
   "outputs": [],
   "source": [
    "df.loc[df['cart_add_rate'] != df['ATC'], 'cart_add_rate'] = df.loc[df['cart_add_rate'] != df['ATC'], 'ATC'].values\n",
    "df = df.drop(columns=['ATC'])"
   ]
  },
  {
   "cell_type": "code",
   "execution_count": 13,
   "id": "7755af51-30b5-4d00-8c19-236a53003355",
   "metadata": {},
   "outputs": [
    {
     "name": "stdout",
     "output_type": "stream",
     "text": [
      "1810\n"
     ]
    }
   ],
   "source": [
    "# pur_purchase_rate = pur_total_count / search_query_volume  * 100 \n",
    "df.loc[:, 'PUR'] = df['pur_total_count'] / df['search_quey_volume'] * 100\n",
    "df.loc[:, 'PUR'] = df['PUR'].round(2)\n",
    "difference_count = (df.loc[:, 'pur_purchase_rate'] != df.loc[:, 'PUR']).sum()\n",
    "print(difference_count)"
   ]
  },
  {
   "cell_type": "code",
   "execution_count": 14,
   "id": "926f77ab-25bf-4071-8bea-9c0d920ecefe",
   "metadata": {
    "scrolled": true
   },
   "outputs": [
    {
     "name": "stdout",
     "output_type": "stream",
     "text": [
      "     week                        search_query  search_query_score  \\\n",
      "124   NaN               sensory stretchy toys                  25   \n",
      "600   NaN                        sensory toys                   1   \n",
      "601   NaN  sensory toys for autistic children                   2   \n",
      "602   NaN          autistic toys for boys 5-7                   3   \n",
      "603   NaN  toys for autistic children age 5-7                   4   \n",
      "...   ...                                 ...                 ...   \n",
      "2578  NaN            sensory items for adults                  90   \n",
      "2580  NaN                   sensory materials                  92   \n",
      "2581  NaN            toddler chew toy sensory                  93   \n",
      "2583  NaN                     alzheimers toys                  95   \n",
      "2586  NaN                         chew fidget                  98   \n",
      "\n",
      "      search_quey_volume  imp_total_count  imp_ASIN_count  imp_ASIN_share  \\\n",
      "124                   32              858              40          4.6600   \n",
      "600               132795          3017056           44620          0.0148   \n",
      "601                93823          2076431           17798          0.0086   \n",
      "602                13630           296697            2564          0.0086   \n",
      "603                16996           386371            2444          0.0063   \n",
      "...                  ...              ...             ...             ...   \n",
      "2578                  79             9672              44          0.0045   \n",
      "2580                  45             5270              43          0.0082   \n",
      "2581                 162            11249              43          0.0038   \n",
      "2583                  13             1002               5          0.0050   \n",
      "2586                  43             4249              39          0.0092   \n",
      "\n",
      "      clk_total_count  clk_click_rate  clk_ASIN_count  clk_ASIN_share  \\\n",
      "124                13           40.62               4         30.7700   \n",
      "600             34809           26.21             336          0.0097   \n",
      "601             28863           30.76             169          0.0059   \n",
      "602              4000           29.35              54          0.0135   \n",
      "603              5237           30.81              42          0.0080   \n",
      "...               ...             ...             ...             ...   \n",
      "2578               77           97.47               1          0.0130   \n",
      "2580               65          144.44               1          0.0154   \n",
      "2581              201          124.07               1          0.0050   \n",
      "2583               16          123.08               2          0.1250   \n",
      "2586               43          100.00               1          0.0233   \n",
      "\n",
      "      cart_total_count  cart_add_rate  cart_ASIN_count  cart_ASIN_share  \\\n",
      "124                  4          12.50                2          50.0000   \n",
      "600              10032           7.55              141           0.0141   \n",
      "601               8204           8.74               73           0.0089   \n",
      "602               1113           8.17               24           0.0216   \n",
      "603               1412           8.31               22           0.0156   \n",
      "...                ...            ...              ...              ...   \n",
      "2578                33          41.77                1           0.0303   \n",
      "2580                23          51.11                1           0.0435   \n",
      "2581                66          40.74                1           0.0152   \n",
      "2583                 4          30.77                1           0.2500   \n",
      "2586                19          44.19                1           0.0526   \n",
      "\n",
      "      pur_total_count  pur_purchase_rate  pur_ASIN_count pur_ASIN_share    PUR  \n",
      "124                 1             3.1300               1            100   3.12  \n",
      "600              2106             0.0159              41         0.0195   1.59  \n",
      "601              1859             0.0198              16         0.0086   1.98  \n",
      "602               307             0.0225              10         0.0326   2.25  \n",
      "603               350             0.0206               6         0.0171   2.06  \n",
      "...               ...                ...             ...            ...    ...  \n",
      "2578                4             0.0117               0              0   5.06  \n",
      "2580                1             0.0053               0              0   2.22  \n",
      "2581               27             0.0509               0              0  16.67  \n",
      "2583                1             0.0208               0              0   7.69  \n",
      "2586                3             0.0207               0              0   6.98  \n",
      "\n",
      "[1810 rows x 20 columns]\n"
     ]
    }
   ],
   "source": [
    "differences = df[df['pur_purchase_rate'] != df['PUR']]\n",
    "print(differences)"
   ]
  },
  {
   "cell_type": "markdown",
   "id": "b1fe20f7-8c2b-4eb9-b3e7-d90e20b6d97e",
   "metadata": {},
   "source": [
    "- Upon inspecting the data, we identified calculation errors in several rows. For example, row 124 ontains a rounding error, and row 600 has a decimal point notation error.  \n",
    "- We will replace the values in these rows with the newly calculated PUR values and update the original `pur_purchase_rate` column accordingly. After updating the `pur_purchase_rate` column, we will delete the `PUR` column as it is no longer needed."
   ]
  },
  {
   "cell_type": "code",
   "execution_count": 15,
   "id": "11f64a0f-0bfa-4fc2-b4aa-52a66ddf4601",
   "metadata": {},
   "outputs": [],
   "source": [
    "df.loc[df['pur_purchase_rate'] != df['PUR'], 'pur_purchase_rate'] = df.loc[df['pur_purchase_rate'] != df['PUR'], 'PUR'].values\n",
    "df = df.drop(columns=['PUR'])"
   ]
  },
  {
   "cell_type": "code",
   "execution_count": 16,
   "id": "ba2bd218-3bab-4ef3-967a-bf3c70574197",
   "metadata": {},
   "outputs": [
    {
     "name": "stdout",
     "output_type": "stream",
     "text": [
      "     week                        search_query  search_query_score  \\\n",
      "54    NaN  learning toys for kids with autism                  55   \n",
      "127   NaN                        stim noodles                  28   \n",
      "151   NaN           stretchy toy for toddlers                  52   \n",
      "153   NaN                         fidgets asd                  54   \n",
      "159   NaN                   todler autism toy                  60   \n",
      "...   ...                                 ...                 ...   \n",
      "2583  NaN                     alzheimers toys                  95   \n",
      "2584  NaN             crazy glow bungee bandz                  96   \n",
      "2585  NaN  squishy toys for autistic children                  97   \n",
      "2587  NaN       huggy wuggy leg stretchy toys                  99   \n",
      "2588  NaN                  silicone toys kids                 100   \n",
      "\n",
      "      search_quey_volume  imp_total_count  imp_ASIN_count  imp_ASIN_share  \\\n",
      "54                    41             1074               2          0.1900   \n",
      "127                    2               78               2          2.5600   \n",
      "151                    5               95               3          3.1600   \n",
      "153                    2               79               2          2.5300   \n",
      "159                    2              120               2          1.6700   \n",
      "...                  ...              ...             ...             ...   \n",
      "2583                  13             1002               5          0.0050   \n",
      "2584                   2               85               5          0.0588   \n",
      "2585                   2              429               5          0.0117   \n",
      "2587                   1               38               2          0.0526   \n",
      "2588                   1               57               2          0.0351   \n",
      "\n",
      "      clk_total_count  clk_click_rate  clk_ASIN_count  clk_ASIN_share  \\\n",
      "54                 47          114.63               1          2.1300   \n",
      "127                 4          200.00               2         50.0000   \n",
      "151                 8          160.00               1         12.5000   \n",
      "153                 3          150.00               1         33.3300   \n",
      "159                 3          150.00               1         33.3300   \n",
      "...               ...             ...             ...             ...   \n",
      "2583               16          123.08               2          0.1250   \n",
      "2584                3          150.00               2          0.6667   \n",
      "2585               19          950.00               2          0.1053   \n",
      "2587                2          200.00               2          1.0000   \n",
      "2588                2          200.00               2          1.0000   \n",
      "\n",
      "      cart_total_count  cart_add_rate  cart_ASIN_count  cart_ASIN_share  \\\n",
      "54                   3           7.32                1            33.33   \n",
      "127                  2         100.00                2           100.00   \n",
      "151                  5         100.00                1            20.00   \n",
      "153                  3         150.00                1            33.33   \n",
      "159                  2         100.00                1            50.00   \n",
      "...                ...            ...              ...              ...   \n",
      "2583                 4          30.77                1             0.25   \n",
      "2584                 1          50.00                1             1.00   \n",
      "2585                 5         250.00                1             0.20   \n",
      "2587                 1         100.00                1             1.00   \n",
      "2588                 1         100.00                1             1.00   \n",
      "\n",
      "      pur_total_count  pur_purchase_rate  pur_ASIN_count pur_ASIN_share  \n",
      "54                  2               4.88               1             50  \n",
      "127                 1              50.00               1            100  \n",
      "151                 2              40.00               1             50  \n",
      "153                 3             150.00               1          33.33  \n",
      "159                 1              50.00               1            100  \n",
      "...               ...                ...             ...            ...  \n",
      "2583                1               7.69               0              0  \n",
      "2584                0               0.00               0              -  \n",
      "2585                0               0.00               0              -  \n",
      "2587                0               0.00               0              -  \n",
      "2588                0               0.00               0              -  \n",
      "\n",
      "[537 rows x 19 columns]\n"
     ]
    }
   ],
   "source": [
    "# Cleaning up outliers('rate' column)\n",
    "# Since the 'rate' columns represent percentages, their values should logically not exceed 100. However, after inspecting the data using describe(), values exceeding 100 were found, indicating the need for data correction.\n",
    "over_100_rows = df[(df['clk_click_rate'] > 100) | \n",
    "                   (df['cart_add_rate'] > 100) | \n",
    "                   (df['pur_purchase_rate'] > 100)]\n",
    "\n",
    "print(over_100_rows)"
   ]
  },
  {
   "cell_type": "markdown",
   "id": "7e30b226-e7c2-4045-84a3-900ad25f4cfc",
   "metadata": {},
   "source": [
    "- A total of 537 rate outliers were found. This could occur due to a mismatch between search_query_volume and actual behavior (e.g., multiple products being shown for the same query), or due to missing or duplicated data in `search_query_volume`. This observation suggests there may be issues with the data collection for the `search_query_volume` column. 이거 맞는지 다시 한 번 생각해보자\n",
    "- To preserve the data, we will apply clipping to the rate columns, limiting their values to 100."
   ]
  },
  {
   "cell_type": "code",
   "execution_count": 17,
   "id": "b104f76a-8a0e-4392-8a9c-8c094f9b0830",
   "metadata": {},
   "outputs": [],
   "source": [
    "# Clip the values of rate columns (clk_click_rate, cart_add_rate, pur_purchase_rate) to 100\n",
    "df['clk_click_rate'] = df['clk_click_rate'].clip(upper=100)\n",
    "df['cart_add_rate'] = df['cart_add_rate'].clip(upper=100)\n",
    "df['pur_purchase_rate'] = df['pur_purchase_rate'].clip(upper=100)"
   ]
  },
  {
   "cell_type": "code",
   "execution_count": 18,
   "id": "6a9e2f24-53ac-4071-b54d-7d751651e1fb",
   "metadata": {},
   "outputs": [
    {
     "data": {
      "text/html": [
       "<div>\n",
       "<style scoped>\n",
       "    .dataframe tbody tr th:only-of-type {\n",
       "        vertical-align: middle;\n",
       "    }\n",
       "\n",
       "    .dataframe tbody tr th {\n",
       "        vertical-align: top;\n",
       "    }\n",
       "\n",
       "    .dataframe thead th {\n",
       "        text-align: right;\n",
       "    }\n",
       "</style>\n",
       "<table border=\"1\" class=\"dataframe\">\n",
       "  <thead>\n",
       "    <tr style=\"text-align: right;\">\n",
       "      <th></th>\n",
       "      <th>search_query_score</th>\n",
       "      <th>search_quey_volume</th>\n",
       "      <th>imp_total_count</th>\n",
       "      <th>imp_ASIN_count</th>\n",
       "      <th>imp_ASIN_share</th>\n",
       "      <th>clk_total_count</th>\n",
       "      <th>clk_click_rate</th>\n",
       "      <th>clk_ASIN_count</th>\n",
       "      <th>clk_ASIN_share</th>\n",
       "      <th>cart_total_count</th>\n",
       "      <th>cart_add_rate</th>\n",
       "      <th>cart_ASIN_count</th>\n",
       "      <th>cart_ASIN_share</th>\n",
       "      <th>pur_total_count</th>\n",
       "      <th>pur_purchase_rate</th>\n",
       "      <th>pur_ASIN_count</th>\n",
       "    </tr>\n",
       "  </thead>\n",
       "  <tbody>\n",
       "    <tr>\n",
       "      <th>count</th>\n",
       "      <td>2575.000000</td>\n",
       "      <td>2.575000e+03</td>\n",
       "      <td>2.575000e+03</td>\n",
       "      <td>2575.000000</td>\n",
       "      <td>2575.000000</td>\n",
       "      <td>2575.000000</td>\n",
       "      <td>2575.000000</td>\n",
       "      <td>2575.000000</td>\n",
       "      <td>2575.000000</td>\n",
       "      <td>2575.000000</td>\n",
       "      <td>2575.000000</td>\n",
       "      <td>2575.000000</td>\n",
       "      <td>2575.000000</td>\n",
       "      <td>2575.000000</td>\n",
       "      <td>2575.000000</td>\n",
       "      <td>2575.000000</td>\n",
       "    </tr>\n",
       "    <tr>\n",
       "      <th>mean</th>\n",
       "      <td>50.455534</td>\n",
       "      <td>5.855398e+03</td>\n",
       "      <td>1.513293e+05</td>\n",
       "      <td>390.249709</td>\n",
       "      <td>0.451757</td>\n",
       "      <td>1647.321165</td>\n",
       "      <td>58.924478</td>\n",
       "      <td>4.864466</td>\n",
       "      <td>4.090996</td>\n",
       "      <td>514.140194</td>\n",
       "      <td>31.258318</td>\n",
       "      <td>2.701748</td>\n",
       "      <td>5.977720</td>\n",
       "      <td>130.405825</td>\n",
       "      <td>15.321379</td>\n",
       "      <td>1.043107</td>\n",
       "    </tr>\n",
       "    <tr>\n",
       "      <th>std</th>\n",
       "      <td>28.786616</td>\n",
       "      <td>7.639875e+04</td>\n",
       "      <td>1.785279e+06</td>\n",
       "      <td>2066.258584</td>\n",
       "      <td>1.045654</td>\n",
       "      <td>14526.554816</td>\n",
       "      <td>32.195466</td>\n",
       "      <td>20.433603</td>\n",
       "      <td>15.875465</td>\n",
       "      <td>4753.796453</td>\n",
       "      <td>29.971710</td>\n",
       "      <td>10.354984</td>\n",
       "      <td>19.874344</td>\n",
       "      <td>1813.030974</td>\n",
       "      <td>27.265076</td>\n",
       "      <td>3.364898</td>\n",
       "    </tr>\n",
       "    <tr>\n",
       "      <th>min</th>\n",
       "      <td>1.000000</td>\n",
       "      <td>1.000000e+00</td>\n",
       "      <td>1.400000e+01</td>\n",
       "      <td>1.000000</td>\n",
       "      <td>0.000000</td>\n",
       "      <td>1.000000</td>\n",
       "      <td>5.330000</td>\n",
       "      <td>0.000000</td>\n",
       "      <td>0.000000</td>\n",
       "      <td>1.000000</td>\n",
       "      <td>0.260000</td>\n",
       "      <td>0.000000</td>\n",
       "      <td>0.000000</td>\n",
       "      <td>0.000000</td>\n",
       "      <td>0.000000</td>\n",
       "      <td>0.000000</td>\n",
       "    </tr>\n",
       "    <tr>\n",
       "      <th>25%</th>\n",
       "      <td>26.000000</td>\n",
       "      <td>1.200000e+01</td>\n",
       "      <td>5.385000e+02</td>\n",
       "      <td>10.000000</td>\n",
       "      <td>0.007200</td>\n",
       "      <td>9.000000</td>\n",
       "      <td>29.155000</td>\n",
       "      <td>1.000000</td>\n",
       "      <td>0.011300</td>\n",
       "      <td>4.000000</td>\n",
       "      <td>8.640000</td>\n",
       "      <td>1.000000</td>\n",
       "      <td>0.022700</td>\n",
       "      <td>1.000000</td>\n",
       "      <td>1.450000</td>\n",
       "      <td>0.000000</td>\n",
       "    </tr>\n",
       "    <tr>\n",
       "      <th>50%</th>\n",
       "      <td>50.000000</td>\n",
       "      <td>1.340000e+02</td>\n",
       "      <td>5.053000e+03</td>\n",
       "      <td>60.000000</td>\n",
       "      <td>0.017800</td>\n",
       "      <td>67.000000</td>\n",
       "      <td>48.310000</td>\n",
       "      <td>2.000000</td>\n",
       "      <td>0.076900</td>\n",
       "      <td>21.000000</td>\n",
       "      <td>18.420000</td>\n",
       "      <td>1.000000</td>\n",
       "      <td>0.166700</td>\n",
       "      <td>5.000000</td>\n",
       "      <td>3.720000</td>\n",
       "      <td>1.000000</td>\n",
       "    </tr>\n",
       "    <tr>\n",
       "      <th>75%</th>\n",
       "      <td>75.000000</td>\n",
       "      <td>8.530000e+02</td>\n",
       "      <td>3.018950e+04</td>\n",
       "      <td>243.500000</td>\n",
       "      <td>0.064850</td>\n",
       "      <td>374.500000</td>\n",
       "      <td>100.000000</td>\n",
       "      <td>3.000000</td>\n",
       "      <td>0.880000</td>\n",
       "      <td>111.000000</td>\n",
       "      <td>44.435000</td>\n",
       "      <td>2.000000</td>\n",
       "      <td>1.000000</td>\n",
       "      <td>21.500000</td>\n",
       "      <td>12.285000</td>\n",
       "      <td>1.000000</td>\n",
       "    </tr>\n",
       "    <tr>\n",
       "      <th>max</th>\n",
       "      <td>100.000000</td>\n",
       "      <td>3.313904e+06</td>\n",
       "      <td>7.767592e+07</td>\n",
       "      <td>47625.000000</td>\n",
       "      <td>11.110000</td>\n",
       "      <td>570036.000000</td>\n",
       "      <td>100.000000</td>\n",
       "      <td>574.000000</td>\n",
       "      <td>100.000000</td>\n",
       "      <td>184445.000000</td>\n",
       "      <td>100.000000</td>\n",
       "      <td>301.000000</td>\n",
       "      <td>100.000000</td>\n",
       "      <td>76767.000000</td>\n",
       "      <td>100.000000</td>\n",
       "      <td>103.000000</td>\n",
       "    </tr>\n",
       "  </tbody>\n",
       "</table>\n",
       "</div>"
      ],
      "text/plain": [
       "       search_query_score  search_quey_volume  imp_total_count  \\\n",
       "count         2575.000000        2.575000e+03     2.575000e+03   \n",
       "mean            50.455534        5.855398e+03     1.513293e+05   \n",
       "std             28.786616        7.639875e+04     1.785279e+06   \n",
       "min              1.000000        1.000000e+00     1.400000e+01   \n",
       "25%             26.000000        1.200000e+01     5.385000e+02   \n",
       "50%             50.000000        1.340000e+02     5.053000e+03   \n",
       "75%             75.000000        8.530000e+02     3.018950e+04   \n",
       "max            100.000000        3.313904e+06     7.767592e+07   \n",
       "\n",
       "       imp_ASIN_count  imp_ASIN_share  clk_total_count  clk_click_rate  \\\n",
       "count     2575.000000     2575.000000      2575.000000     2575.000000   \n",
       "mean       390.249709        0.451757      1647.321165       58.924478   \n",
       "std       2066.258584        1.045654     14526.554816       32.195466   \n",
       "min          1.000000        0.000000         1.000000        5.330000   \n",
       "25%         10.000000        0.007200         9.000000       29.155000   \n",
       "50%         60.000000        0.017800        67.000000       48.310000   \n",
       "75%        243.500000        0.064850       374.500000      100.000000   \n",
       "max      47625.000000       11.110000    570036.000000      100.000000   \n",
       "\n",
       "       clk_ASIN_count  clk_ASIN_share  cart_total_count  cart_add_rate  \\\n",
       "count     2575.000000     2575.000000       2575.000000    2575.000000   \n",
       "mean         4.864466        4.090996        514.140194      31.258318   \n",
       "std         20.433603       15.875465       4753.796453      29.971710   \n",
       "min          0.000000        0.000000          1.000000       0.260000   \n",
       "25%          1.000000        0.011300          4.000000       8.640000   \n",
       "50%          2.000000        0.076900         21.000000      18.420000   \n",
       "75%          3.000000        0.880000        111.000000      44.435000   \n",
       "max        574.000000      100.000000     184445.000000     100.000000   \n",
       "\n",
       "       cart_ASIN_count  cart_ASIN_share  pur_total_count  pur_purchase_rate  \\\n",
       "count      2575.000000      2575.000000      2575.000000        2575.000000   \n",
       "mean          2.701748         5.977720       130.405825          15.321379   \n",
       "std          10.354984        19.874344      1813.030974          27.265076   \n",
       "min           0.000000         0.000000         0.000000           0.000000   \n",
       "25%           1.000000         0.022700         1.000000           1.450000   \n",
       "50%           1.000000         0.166700         5.000000           3.720000   \n",
       "75%           2.000000         1.000000        21.500000          12.285000   \n",
       "max         301.000000       100.000000     76767.000000         100.000000   \n",
       "\n",
       "       pur_ASIN_count  \n",
       "count     2575.000000  \n",
       "mean         1.043107  \n",
       "std          3.364898  \n",
       "min          0.000000  \n",
       "25%          0.000000  \n",
       "50%          1.000000  \n",
       "75%          1.000000  \n",
       "max        103.000000  "
      ]
     },
     "execution_count": 18,
     "metadata": {},
     "output_type": "execute_result"
    }
   ],
   "source": [
    "df.describe()"
   ]
  },
  {
   "cell_type": "code",
   "execution_count": 19,
   "id": "39075d63-7f02-48c1-8dd7-8f24f5462eec",
   "metadata": {},
   "outputs": [
    {
     "data": {
      "text/html": [
       "<div>\n",
       "<style scoped>\n",
       "    .dataframe tbody tr th:only-of-type {\n",
       "        vertical-align: middle;\n",
       "    }\n",
       "\n",
       "    .dataframe tbody tr th {\n",
       "        vertical-align: top;\n",
       "    }\n",
       "\n",
       "    .dataframe thead th {\n",
       "        text-align: right;\n",
       "    }\n",
       "</style>\n",
       "<table border=\"1\" class=\"dataframe\">\n",
       "  <thead>\n",
       "    <tr style=\"text-align: right;\">\n",
       "      <th></th>\n",
       "      <th>week</th>\n",
       "      <th>search_query</th>\n",
       "      <th>search_query_score</th>\n",
       "      <th>search_quey_volume</th>\n",
       "      <th>imp_total_count</th>\n",
       "      <th>clk_total_count</th>\n",
       "      <th>clk_click_rate</th>\n",
       "      <th>cart_total_count</th>\n",
       "      <th>cart_add_rate</th>\n",
       "      <th>pur_total_count</th>\n",
       "      <th>pur_purchase_rate</th>\n",
       "    </tr>\n",
       "  </thead>\n",
       "  <tbody>\n",
       "    <tr>\n",
       "      <th>0</th>\n",
       "      <td>NaN</td>\n",
       "      <td>sensory toys</td>\n",
       "      <td>1</td>\n",
       "      <td>35253</td>\n",
       "      <td>815103</td>\n",
       "      <td>9358</td>\n",
       "      <td>26.55</td>\n",
       "      <td>2899</td>\n",
       "      <td>8.22</td>\n",
       "      <td>526</td>\n",
       "      <td>1.49</td>\n",
       "    </tr>\n",
       "    <tr>\n",
       "      <th>1</th>\n",
       "      <td>NaN</td>\n",
       "      <td>sensory toys for autistic children</td>\n",
       "      <td>2</td>\n",
       "      <td>23354</td>\n",
       "      <td>509901</td>\n",
       "      <td>7784</td>\n",
       "      <td>33.33</td>\n",
       "      <td>2086</td>\n",
       "      <td>8.93</td>\n",
       "      <td>325</td>\n",
       "      <td>1.39</td>\n",
       "    </tr>\n",
       "    <tr>\n",
       "      <th>2</th>\n",
       "      <td>NaN</td>\n",
       "      <td>sensory toys for kids 5-7</td>\n",
       "      <td>3</td>\n",
       "      <td>6531</td>\n",
       "      <td>141188</td>\n",
       "      <td>1812</td>\n",
       "      <td>27.74</td>\n",
       "      <td>550</td>\n",
       "      <td>8.42</td>\n",
       "      <td>116</td>\n",
       "      <td>1.78</td>\n",
       "    </tr>\n",
       "    <tr>\n",
       "      <th>3</th>\n",
       "      <td>NaN</td>\n",
       "      <td>autism sensory toys</td>\n",
       "      <td>4</td>\n",
       "      <td>6932</td>\n",
       "      <td>149596</td>\n",
       "      <td>1829</td>\n",
       "      <td>26.38</td>\n",
       "      <td>559</td>\n",
       "      <td>8.06</td>\n",
       "      <td>95</td>\n",
       "      <td>1.37</td>\n",
       "    </tr>\n",
       "    <tr>\n",
       "      <th>4</th>\n",
       "      <td>NaN</td>\n",
       "      <td>autism sensory products</td>\n",
       "      <td>5</td>\n",
       "      <td>4218</td>\n",
       "      <td>85699</td>\n",
       "      <td>1173</td>\n",
       "      <td>27.81</td>\n",
       "      <td>286</td>\n",
       "      <td>6.78</td>\n",
       "      <td>16</td>\n",
       "      <td>0.38</td>\n",
       "    </tr>\n",
       "    <tr>\n",
       "      <th>...</th>\n",
       "      <td>...</td>\n",
       "      <td>...</td>\n",
       "      <td>...</td>\n",
       "      <td>...</td>\n",
       "      <td>...</td>\n",
       "      <td>...</td>\n",
       "      <td>...</td>\n",
       "      <td>...</td>\n",
       "      <td>...</td>\n",
       "      <td>...</td>\n",
       "      <td>...</td>\n",
       "    </tr>\n",
       "    <tr>\n",
       "      <th>2584</th>\n",
       "      <td>NaN</td>\n",
       "      <td>crazy glow bungee bandz</td>\n",
       "      <td>96</td>\n",
       "      <td>2</td>\n",
       "      <td>85</td>\n",
       "      <td>3</td>\n",
       "      <td>100.00</td>\n",
       "      <td>1</td>\n",
       "      <td>50.00</td>\n",
       "      <td>0</td>\n",
       "      <td>0.00</td>\n",
       "    </tr>\n",
       "    <tr>\n",
       "      <th>2585</th>\n",
       "      <td>NaN</td>\n",
       "      <td>squishy toys for autistic children</td>\n",
       "      <td>97</td>\n",
       "      <td>2</td>\n",
       "      <td>429</td>\n",
       "      <td>19</td>\n",
       "      <td>100.00</td>\n",
       "      <td>5</td>\n",
       "      <td>100.00</td>\n",
       "      <td>0</td>\n",
       "      <td>0.00</td>\n",
       "    </tr>\n",
       "    <tr>\n",
       "      <th>2586</th>\n",
       "      <td>NaN</td>\n",
       "      <td>chew fidget</td>\n",
       "      <td>98</td>\n",
       "      <td>43</td>\n",
       "      <td>4249</td>\n",
       "      <td>43</td>\n",
       "      <td>100.00</td>\n",
       "      <td>19</td>\n",
       "      <td>44.19</td>\n",
       "      <td>3</td>\n",
       "      <td>6.98</td>\n",
       "    </tr>\n",
       "    <tr>\n",
       "      <th>2587</th>\n",
       "      <td>NaN</td>\n",
       "      <td>huggy wuggy leg stretchy toys</td>\n",
       "      <td>99</td>\n",
       "      <td>1</td>\n",
       "      <td>38</td>\n",
       "      <td>2</td>\n",
       "      <td>100.00</td>\n",
       "      <td>1</td>\n",
       "      <td>100.00</td>\n",
       "      <td>0</td>\n",
       "      <td>0.00</td>\n",
       "    </tr>\n",
       "    <tr>\n",
       "      <th>2588</th>\n",
       "      <td>NaN</td>\n",
       "      <td>silicone toys kids</td>\n",
       "      <td>100</td>\n",
       "      <td>1</td>\n",
       "      <td>57</td>\n",
       "      <td>2</td>\n",
       "      <td>100.00</td>\n",
       "      <td>1</td>\n",
       "      <td>100.00</td>\n",
       "      <td>0</td>\n",
       "      <td>0.00</td>\n",
       "    </tr>\n",
       "  </tbody>\n",
       "</table>\n",
       "<p>2575 rows × 11 columns</p>\n",
       "</div>"
      ],
      "text/plain": [
       "     week                        search_query  search_query_score  \\\n",
       "0     NaN                        sensory toys                   1   \n",
       "1     NaN  sensory toys for autistic children                   2   \n",
       "2     NaN           sensory toys for kids 5-7                   3   \n",
       "3     NaN                 autism sensory toys                   4   \n",
       "4     NaN             autism sensory products                   5   \n",
       "...   ...                                 ...                 ...   \n",
       "2584  NaN             crazy glow bungee bandz                  96   \n",
       "2585  NaN  squishy toys for autistic children                  97   \n",
       "2586  NaN                         chew fidget                  98   \n",
       "2587  NaN       huggy wuggy leg stretchy toys                  99   \n",
       "2588  NaN                  silicone toys kids                 100   \n",
       "\n",
       "      search_quey_volume  imp_total_count  clk_total_count  clk_click_rate  \\\n",
       "0                  35253           815103             9358           26.55   \n",
       "1                  23354           509901             7784           33.33   \n",
       "2                   6531           141188             1812           27.74   \n",
       "3                   6932           149596             1829           26.38   \n",
       "4                   4218            85699             1173           27.81   \n",
       "...                  ...              ...              ...             ...   \n",
       "2584                   2               85                3          100.00   \n",
       "2585                   2              429               19          100.00   \n",
       "2586                  43             4249               43          100.00   \n",
       "2587                   1               38                2          100.00   \n",
       "2588                   1               57                2          100.00   \n",
       "\n",
       "      cart_total_count  cart_add_rate  pur_total_count  pur_purchase_rate  \n",
       "0                 2899           8.22              526               1.49  \n",
       "1                 2086           8.93              325               1.39  \n",
       "2                  550           8.42              116               1.78  \n",
       "3                  559           8.06               95               1.37  \n",
       "4                  286           6.78               16               0.38  \n",
       "...                ...            ...              ...                ...  \n",
       "2584                 1          50.00                0               0.00  \n",
       "2585                 5         100.00                0               0.00  \n",
       "2586                19          44.19                3               6.98  \n",
       "2587                 1         100.00                0               0.00  \n",
       "2588                 1         100.00                0               0.00  \n",
       "\n",
       "[2575 rows x 11 columns]"
      ]
     },
     "execution_count": 19,
     "metadata": {},
     "output_type": "execute_result"
    }
   ],
   "source": [
    "# Delete unnecessary columns\n",
    "columns_to_drop = [ 'imp_ASIN_count', 'imp_ASIN_share', \n",
    "                   'clk_ASIN_count', 'clk_ASIN_share', 'cart_ASIN_count', \n",
    "                   'cart_ASIN_share', 'pur_ASIN_count', 'pur_ASIN_share']\n",
    "\n",
    "df.drop(columns=columns_to_drop, inplace=True)\n",
    "df"
   ]
  },
  {
   "cell_type": "markdown",
   "id": "9e414d9b-a7b8-45c8-a696-356350b3ae3c",
   "metadata": {},
   "source": [
    "### 2.3 EDA"
   ]
  },
  {
   "cell_type": "markdown",
   "id": "f9f4b414-b1d3-48d8-8452-0f16f1d8454e",
   "metadata": {},
   "source": [
    "- Prior to hypothesis setting and testing, a heatmap was created to explore potential analysis points by examining the correlations between variables. However, only expected correlations, such as between the number of ad clicks and click-through rate, and between total ad impressions and click-through rate, were observed. No additional noteworthy analysis points were found."
   ]
  },
  {
   "cell_type": "markdown",
   "id": "0dfdebdd-df97-4f9f-9e0d-0186881f789c",
   "metadata": {},
   "source": [
    "#### Distribution of Variables(`clk_click_rate`, `cart_add_rate`, `pur_purchase_rate`)"
   ]
  },
  {
   "cell_type": "code",
   "execution_count": 20,
   "id": "adcfc9a6-be52-4ba9-b5a6-50dfc6e1db51",
   "metadata": {},
   "outputs": [
    {
     "data": {
      "image/png": "[encoded data removed]",
      "text/plain": [
       "<Figure size 1500x500 with 3 Axes>"
      ]
     },
     "metadata": {},
     "output_type": "display_data"
    }
   ],
   "source": [
    "#Distribution of Click Rate, Cart Add Rate, and Purchase Rate\n",
    "import matplotlib.pyplot as plt\n",
    "import seaborn as sns\n",
    "\n",
    "# List of the metrics to plot\n",
    "metrics = ['clk_click_rate', 'cart_add_rate', 'pur_purchase_rate']\n",
    "\n",
    "# Create subplots: 1 row, 3 columns\n",
    "plt.figure(figsize=(15, 5))\n",
    "\n",
    "# Loop over the metrics and plot each one\n",
    "for i, metric in enumerate(metrics, 1):\n",
    "    plt.subplot(1, 3, i)  # (rows, columns, position)\n",
    "    sns.histplot(df[metric], kde=False, bins=20, color='skyblue', edgecolor='black')\n",
    "    plt.title(f\"Histogram of {metric}\")\n",
    "    plt.xlabel(f\"{metric}\")\n",
    "    plt.ylabel(\"Frequency\")\n",
    "\n",
    "# Adjust layout to avoid overlapping labels\n",
    "plt.tight_layout()\n",
    "\n",
    "# Show the plot\n",
    "plt.show()"
   ]
  },
  {
   "cell_type": "markdown",
   "id": "f3bc04ee-c237-40ee-91c2-4c41f33b71d7",
   "metadata": {},
   "source": [
    "- The three key metrics ('clk_click_rate', 'cart_add_rate', 'pur_purchase_rate') all show **skewed distributions**.\n",
    "- While the click rate is predominantly in the 90-100% range, the cart add rate and purchase rate are mostly in the 0-20% range."
   ]
  },
  {
   "cell_type": "markdown",
   "id": "93586b13-a4e8-4c82-afe0-f2eea7e2e7cf",
   "metadata": {},
   "source": [
    "#### Word Count, Frequency Analysis, and Query Duplication in ```Search Queries```"
   ]
  },
  {
   "cell_type": "code",
   "execution_count": 21,
   "id": "8484ccd9-fdfb-4fcf-96b9-fa57eab7454c",
   "metadata": {
    "scrolled": true
   },
   "outputs": [
    {
     "name": "stdout",
     "output_type": "stream",
     "text": [
      "count    2575.000000\n",
      "mean        3.921553\n",
      "std         2.889452\n",
      "min         1.000000\n",
      "25%         2.000000\n",
      "50%         3.000000\n",
      "75%         5.000000\n",
      "max        49.000000\n",
      "Name: word_count, dtype: float64\n",
      "Top 10 Frequent Words: [('toys', 1486), ('sensory', 1056), ('for', 879), ('autism', 452), ('fidget', 340), ('kids', 316), ('autistic', 256), ('stretchy', 251), ('bunmo', 207), ('children', 179), ('textured', 169), ('toy', 161), ('5-7', 136), ('strings', 133), ('adults', 108), ('special', 101), ('needs', 92), ('with', 87), ('chew', 86), ('noodles', 82)]\n",
      "Number of Low Frequency Words: 360\n",
      "Duplicate Query Counts:\n",
      "search_query\n",
      "autism sensory toys                   26\n",
      "autism sensory products               26\n",
      "autism toys                           26\n",
      "sensory toys for autistic children    25\n",
      "bunmo sensory toys                    25\n",
      "autistic toys for boys 5-7            25\n",
      "toys for autistic children age 5-7    25\n",
      "sensory toys                          24\n",
      "stretchy toys                         24\n",
      "sensory toys for kids 5-7             23\n",
      "Name: count, dtype: int64\n"
     ]
    },
    {
     "data": {
      "image/png": "[encoded data removed]",
      "text/plain": [
       "<Figure size 640x480 with 1 Axes>"
      ]
     },
     "metadata": {},
     "output_type": "display_data"
    }
   ],
   "source": [
    "from collections import Counter\n",
    "\n",
    "# 1. Analyze the number of words in each search query\n",
    "df['word_count'] = df['search_query'].apply(lambda x: len(x.split()))\n",
    "\n",
    "word_count_stats = df['word_count'].describe()  # Displays mean, min, max, etc.\n",
    "print(word_count_stats)\n",
    "\n",
    "# 2. Analyze high-frequency and low-frequency words\n",
    "all_words = ' '.join(df['search_query']).split() # Split all search queries into individual words\n",
    "word_freq = Counter(all_words)\n",
    "\n",
    "high_freq_words = word_freq.most_common(20) # High-frequency words\n",
    "print(\"Top 10 Frequent Words:\", high_freq_words)\n",
    "\n",
    "low_freq_words = [word for word, freq in word_freq.items() if freq == 1] # Low-frequency words\n",
    "print(\"Number of Low Frequency Words:\", len(low_freq_words))\n",
    "\n",
    "# 3. Analyze duplicate search query frequencies\n",
    "query_freq = df['search_query'].value_counts()\n",
    "print(\"Duplicate Query Counts:\")\n",
    "print(query_freq.head(10))  # Displays the top 10 duplicate search queries\n",
    "\n",
    "plt.hist(df['word_count'], bins=10, color='skyblue', edgecolor='black') # Visualization\n",
    "plt.title(\"Distribution of Word Counts in search_query\")\n",
    "plt.xlabel(\"Word Count\")\n",
    "plt.ylabel(\"Frequency\")\n",
    "plt.show()\n"
   ]
  },
  {
   "cell_type": "markdown",
   "id": "d9ff43a8-8bce-4cef-a456-42165fdf310a",
   "metadata": {},
   "source": [
    "#### Extract important keywords using TF-IDF method"
   ]
  },
  {
   "cell_type": "code",
   "execution_count": 22,
   "id": "88554cc9-a7b8-4fd7-8b73-18a68632fc2c",
   "metadata": {},
   "outputs": [
    {
     "name": "stdout",
     "output_type": "stream",
     "text": [
      "Top 30 Unique Keywords with Highest TF-IDF Scores:\n",
      "bunmo: 1.0000\n",
      "noodlies: 1.0000\n",
      "autism: 1.0000\n",
      "vibe: 1.0000\n",
      "sensory: 1.0000\n",
      "slinky: 1.0000\n",
      "flipazoo: 1.0000\n",
      "figetget: 1.0000\n",
      "stretchlerz: 1.0000\n",
      "theraputty: 1.0000\n",
      "fidget: 1.0000\n",
      "b082d7wvt8: 1.0000\n",
      "speks: 1.0000\n"
     ]
    }
   ],
   "source": [
    "from sklearn.feature_extraction.text import TfidfVectorizer\n",
    "\n",
    "# TF-IDF vectorization\n",
    "vectorizer = TfidfVectorizer(stop_words='english')  # Removing English stopwords\n",
    "X_tfidf = vectorizer.fit_transform(df['search_query'])\n",
    "\n",
    "# Extracting words and their corresponding TF-IDF scores\n",
    "tfidf_df = pd.DataFrame(X_tfidf.T.toarray(), index=vectorizer.get_feature_names_out())\n",
    "tfidf_df = tfidf_df.T  \n",
    "\n",
    "# Extracting the most important words based on the highest TF-IDF score in each query\n",
    "top_tfidf_words = tfidf_df.max(axis=1).sort_values(ascending=False).head(30) \n",
    "\n",
    "# Extracting the actual words corresponding to the highest TF-IDF scores and their scores\n",
    "top_keyword_words_with_scores = []\n",
    "for i in top_tfidf_words.index:\n",
    "    max_index = tfidf_df.loc[i].idxmax() \n",
    "    score = tfidf_df.loc[i, max_index] \n",
    "    top_keyword_words_with_scores.append((max_index, score))  \n",
    "\n",
    "\n",
    "top_keyword_words_with_scores_unique = list(set(top_keyword_words_with_scores))\n",
    "\n",
    "print(\"Top 30 Unique Keywords with Highest TF-IDF Scores:\")\n",
    "for word, score in top_keyword_words_with_scores_unique:\n",
    "    print(f\"{word}: {score:.4f}\")  \n"
   ]
  },
  {
   "cell_type": "markdown",
   "id": "115affb3-3afc-4f8b-8de0-b40b14a09151",
   "metadata": {},
   "source": [
    "- Possible Reasons for Getting Only 13 Results Instead of 30 in the Deduplicated TF-IDF List:\n",
    "    - **Fewer than 30 unique top words or similar TF-IDF scores**: It could be that there are fewer than 30 unique words with significant TF-IDF scores, or that the remaining words have very similar TF-IDF scores, thus preventing the list from reaching 30 distinct terms. This suggests that the search queries contain few significant keywords or that the repeated keywords are very similar.\n",
    "\n",
    "    - **Short search queries or data focused on a specific topic**: Looking at the text characteristics, most search queries consist of 5 words or fewer, and the frequency and TF-IDF lists show a concentration on specific topics, such as 'kids', 'autism', 'sensory', etc. This indicates that the data might be highly focused on a few themes.\n",
    "\n",
    "    - **Limited amount of data**: The dataset contains only around 2600 entries, which may not be enough to generate a wide variety of significant keywords.\n",
    " \n",
    "- Also, **specific brand names** such as Bunmo, Speks, Flipazoo and Theraputty were observed."
   ]
  },
  {
   "cell_type": "markdown",
   "id": "4c2e1028-1070-491d-a425-714c6b41e339",
   "metadata": {},
   "source": [
    "#### Analysis between keywords and key metrics(average click rate, cart add rate, and purchase rate)"
   ]
  },
  {
   "cell_type": "code",
   "execution_count": 23,
   "id": "b88ccaf3-dc6d-4fd5-a9f4-402816ff770f",
   "metadata": {},
   "outputs": [
    {
     "name": "stdout",
     "output_type": "stream",
     "text": [
      "Results for Queries Containing 'bunmo':\n",
      "  Average Click Rate: 80.7253\n",
      "  Average Cart Add Rate: 65.2301\n",
      "  Average Purchase Rate: 47.6106\n",
      "\n",
      "Results for Queries Containing 'noodlies':\n",
      "  Average Click Rate: 39.6940\n",
      "  Average Cart Add Rate: 15.8580\n",
      "  Average Purchase Rate: 3.3800\n",
      "\n",
      "Results for Queries Containing 'autism':\n",
      "  Average Click Rate: 55.5617\n",
      "  Average Cart Add Rate: 27.6650\n",
      "  Average Purchase Rate: 12.1771\n",
      "\n",
      "Results for Queries Containing 'vibe':\n",
      "  Average Click Rate: 49.7500\n",
      "  Average Cart Add Rate: 16.1487\n",
      "  Average Purchase Rate: 7.7273\n",
      "\n",
      "Results for Queries Containing 'sensory':\n",
      "  Average Click Rate: 62.3201\n",
      "  Average Cart Add Rate: 36.4215\n",
      "  Average Purchase Rate: 18.6495\n",
      "\n",
      "Results for Queries Containing 'slinky':\n",
      "  Average Click Rate: 78.2320\n",
      "  Average Cart Add Rate: 33.7620\n",
      "  Average Purchase Rate: 13.8000\n",
      "\n",
      "Results for Queries Containing 'flipazoo':\n",
      "  Average Click Rate: 76.3920\n",
      "  Average Cart Add Rate: 13.0440\n",
      "  Average Purchase Rate: 1.7020\n",
      "\n",
      "Results for Queries Containing 'figetget':\n",
      "  Average Click Rate: 45.2700\n",
      "  Average Cart Add Rate: 12.8450\n",
      "  Average Purchase Rate: 0.6700\n",
      "\n",
      "Results for Queries Containing 'stretchlerz':\n",
      "  Average Click Rate: 100.0000\n",
      "  Average Cart Add Rate: 23.5300\n",
      "  Average Purchase Rate: 17.6500\n",
      "\n",
      "Results for Queries Containing 'theraputty':\n",
      "  Average Click Rate: 61.5550\n",
      "  Average Cart Add Rate: 18.9075\n",
      "  Average Purchase Rate: 7.0175\n",
      "\n",
      "Results for Queries Containing 'fidget':\n",
      "  Average Click Rate: 67.3369\n",
      "  Average Cart Add Rate: 37.3549\n",
      "  Average Purchase Rate: 19.8172\n",
      "\n",
      "Results for Queries Containing 'b082d7wvt8':\n",
      "  Average Click Rate: 81.5433\n",
      "  Average Cart Add Rate: 33.9850\n",
      "  Average Purchase Rate: 30.5589\n",
      "\n",
      "Results for Queries Containing 'speks':\n",
      "  Average Click Rate: 47.0950\n",
      "  Average Cart Add Rate: 12.1200\n",
      "  Average Purchase Rate: 1.5500\n",
      "\n"
     ]
    }
   ],
   "source": [
    "# Analyzing the relationship between keywords and key metrics\n",
    "# Dictionary to store the average purchase rate, click rate, and cart add rate for keywords based on TF-IDF \n",
    "rates_by_keyword = {}\n",
    "\n",
    "# Iterate through the words in the top_keyword_words_with_scores_unique list\n",
    "for word, _ in top_keyword_words_with_scores_unique:\n",
    "    \n",
    "    filtered_queries = df[df['search_query'].str.contains(word, case=False, na=False)] # Filter queries that contain the word (queries where the word is included)\n",
    "    \n",
    "    \n",
    "    if not filtered_queries.empty: # Calculate the average purchase rate, click rate, and cart add rate for the filtered queries\n",
    "        avg_purchase_rate = filtered_queries['pur_purchase_rate'].mean()\n",
    "        avg_click_rate = filtered_queries['clk_click_rate'].mean()\n",
    "        avg_cart_add_rate = filtered_queries['cart_add_rate'].mean()\n",
    "    else:\n",
    "        avg_purchase_rate = avg_click_rate = avg_cart_add_rate = None # Set to None if no queries are found\n",
    "    \n",
    "    \n",
    "    rates_by_keyword[word] = { # Store the results in the dictionary\n",
    "        'purchase_rate': avg_purchase_rate,\n",
    "        'click_rate': avg_click_rate,\n",
    "        'cart_add_rate': avg_cart_add_rate\n",
    "    }\n",
    "\n",
    "\n",
    "for word, rates in rates_by_keyword.items():\n",
    "    print(f\"Results for Queries Containing '{word}':\")\n",
    "    \n",
    "    if rates['click_rate'] is not None:\n",
    "        print(f\"  Average Click Rate: {rates['click_rate']:.4f}\")\n",
    "    else:\n",
    "        print(f\"  Average Click Rate: No Queries Found\")\n",
    "        \n",
    "    if rates['cart_add_rate'] is not None:\n",
    "        print(f\"  Average Cart Add Rate: {rates['cart_add_rate']:.4f}\")\n",
    "    else:\n",
    "        print(f\"  Average Cart Add Rate: No Queries Found\")\n",
    "        \n",
    "    if rates['purchase_rate'] is not None:\n",
    "        print(f\"  Average Purchase Rate: {rates['purchase_rate']:.4f}\")\n",
    "    else:\n",
    "        print(f\"  Average Purchase Rate: No Queries Found\")\n",
    "    \n",
    "    print() \n"
   ]
  },
  {
   "cell_type": "markdown",
   "id": "149fccac-427d-469e-9f43-35e83bf802cb",
   "metadata": {},
   "source": [
    "The application of **TF-IDF** revealed that:\n",
    "  - **Brand names**, **product categories**, and **specific product names** are among the most significant keywords.\n",
    "  - These **brand-related keywords** and **product-related keywords** are likely to influence the Click Rate, Cart Add Rate, and purchase rate."
   ]
  },
  {
   "cell_type": "markdown",
   "id": "e8bf9bd5-5ad7-4252-a16c-36d4942e6e17",
   "metadata": {},
   "source": [
    "#### Comparison of Key Metrics (Click Rate, Cart Add Rate, and Purchase Rate) Between Queries Containing Brand Keywords and Non-Brand Keywords"
   ]
  },
  {
   "cell_type": "code",
   "execution_count": 24,
   "id": "ac99f0bc-0702-4f0b-aa2e-99cd493d1c80",
   "metadata": {},
   "outputs": [
    {
     "name": "stdout",
     "output_type": "stream",
     "text": [
      "Number of unique words: 704\n",
      "['seats', 'focus', 'stuffe', 'nap', '3-4', 'springy', 'squeeze', 'aspergers', 'goo', 'zu', 'spark', 'three', 'b082d7wvt8', 'down', 'treasure', 'jellyfish', 'set', 'spin', 'slinky', 'teething', 'chart', 'stations', '18', 'different', '6pk', 'at', 'therapy', 'of', 'sensoriales', 'bungee', 'necklaces', 'panels', 'sensy', 'sensa', 'monkey', 'gooy', '10-17', 'necklace', 'store,', 'fall', 'dementia', 'speks', 'ideal', 'xl', 'cords', 'pasta', 'stim', 'balls', 'textured', 'blankets', 'oral', 'kids', 'jumbo', 'bean', 'grip', '19.com', 'an', 'ridge', 'strips', 'disorder', 'whistles', 'snake', 'apple', 'fun', 'focus,', 'non', 'x-ray', 'chewigem', 'easter', 'juguetes', 'move', 'pack', '6-count', 'feeling', 'toystimulation', 'popper', 'figet', 'wuggy', 'x5', 'deal', 'gifts', 'strethy', 'silcone', 'stocker', 'strcthy', 'stickers', 'handicapped', 'con', 'ipad', 'sticky', 'maze', 'pop', 'pulling', '10-12', 'stimming', 'twist', 'brushes', 'flashcards', 'old', 'strip', 'strigs', 'torys', 'pink', 'manipulative', 'retractable', '5-7', 'digit', 'noodle', 'device', 'strtch', 'anxiety', 'rocker', 'infinity', 'apart', 'texture', 'chill', 'sports', 'spinners', 'christmas', 'frustration', 'figets', 'pk', 'o', 'sensirt', 'adult', 'fir', 'chewing', '2-4', 'stretchies', 'sky', 'storybots', 'basket', 'ramen', 'sensory+toys+for+special+needs', 'fudget', 'minute', 'dollars', 'needs', 'car', 'adults', 'atretchy', 'multi', 'oodles', '11', 'ziggy', 'tubes', 'boys', 'stuffers,', 'hair', 'grade', 'cowboy', 'box', '3-5', 'bumpy', '8', 'disk', 'occupational', 'gel', 'flipazoo', 'sticks', 'expandable', 'bunmoo', 'ninos', 'ribons', 'regulation', 'vibe', 'calm', 'bath', 'black', 'suckers', 'vibrates', 'palsy', 'off', 'table', 'shapes', 'red', 'bandz', 'zone', 'popular', 'silicon', 'under', 'rough', 'physical', 'busy', 'stay', 'autism', 'toys,', 'stick', 'toys-', 'breathe', 'kids.', 'nooddles', '1-3', 'unique', 'tub', 'making', 'for.ec', 'soothing', 'crafts', 'rings', 'carnival', 'fidget', 'scented', 'bracelet', 'pinwheel', 'syndrome', 'belt', 'stream', 'check', 'vibrator', 'proprioception', 'fidgetland', 'long', 'finger', 'fogets', 'chews', 'bilibo', 'wiggles', 'student', 'bande', 'dildo', 'things', 'chewelry', 'anti', 'stemming', 'goma', 'disability', 'oriental', 'oombee', 'hairy', 'thumb', 'bins', 'supplies', 'squeezable', 'processing', 'exciting', '20', 'rubber', 'chair', 'para', 'easy', 'developmentally', 'steinga', 'buddies', 'distracting', 'years', 'issues', 'angelman', 'niños', 'calming', 'best', 'ot', 'textred', 'theraputty', 'accesorios', '12”', 'toys/', 'froogz', 'pins', 'mr', 'bunmo,', 'adaptive', 'students', '4', 'wall', 'dots', 'sound', 'anger', 'make', 'pockets', 'need', 'stickable', 'chldren', 'b', 'nee', 'brain', 'tube', 'senspry', 'haves', 'is', 'month', 'stretching', 'noise', 'time', 'asd', 'that', 'poppin', 'school', 'weird', 'stretchy', 'stocking', 'ropes', 'z', 'restless', 'hard', 'fisget', 'strings', '2', 'latter', 'counselors', 'carriage', 'autisam', 'proprioceptive', 'armstrong', 'chairs', 'pieces', 'toobaloo', 'mechanics', 'the', 'swaddle', 'granx', 'tactile', 'colorful', 'jesus', 'ocean', 'ansiedad', 'children.', 'older', 'special', 'elementary', 'for', 'noodlies', 'on', 'handheld', 'and', 'mouth', 'indestructible', 'therapeutic', 'for.adults', 'gift', 'year', 'baby', 'nook', 'friday', '3d', 'with', 'phsically', 'fabric', 'men', 'destress', 'stuffer', 'fidgettoys', 'teens', 'beats', 'less', '8-12', 'room', 'inside', 'stress', 'suction', 'thick', 'pumpkin', 'bendy', 'shorties', 'games', '7-10', 'toddlers', 'latge', 'leg', 'touching', 'fast', 'in', 'spectrum', 'mobi', 'crazy', 'spinning', 'schoolers', 'bubble', 'age', 'stixx', 'needoh', 'gusanos', 'streaxh', 'fat', 'rocks', 'la', 'pads', 'trace', 'acc', 'chewies', 'awareness', 'washable', 'togs', 'distractible', 'crash', 'changing', '&', 'church', 'large', 'texted', 'gadgets', 'spiroku', 'sell', 'zippee', 'noodles', 'squishy', 'juegos', 'bumno', 'silicone', 'aÃ±os', 'window', 'store', 'j', 'senory', 'outdoor', 'textired', 'squer', 'cord', 'verbal', 'stuffed', 'babies', 'circle', 'child', 'squiggly', 'blind', 'teenager', 'clear', 'ggggv', 'ladder', 'light', 'bedroom', 'am', 'people', 'asmr', 'adapted', 'create', 'blow', 'good', 'switch', 'girls', 'lap', 'up', 'niño', 'emma', 'worms', 'seniors', 'purable', '6', 'heroes', 'pickers', 'seeker', 'party', 'bottles', 'clothing', 'chickle', 'delivery', 'teenagers', 'stretchlerz', 'relievers', 'corner', 'y', 'ideas', 'visual', 'braille', 'tangle', 'ball', 'enabling', 'huggy', 'mini', 'straws', 'children', 'learning', 'neon', 'safety', 'tous', 'bulk', '9monthnold', 'to', 'mordeduras', 'sensroy', 'iq', 'bunmo', 'food', 'social', 'impaired', 'schylling', 'wooden', 'jacobs', 'sting', 'i', 'materiales', 'desk', 'síndrome', 'manipulatives', 'orbeez', 'classroom', 'incentives', 'rope', 'niÃ±os', 'chew', 'band', 'meeting', 'bag', 'distraction', 'stacking', 'unmo', 'sensorial', 'autistas', 'squish', '32\"', 'nostalgia', 'disc', 'favors', 'worm', 'pin', 'pillows', 'bite', 'feeding', 'silly', 'skinny', 'sensitive', 'sensors', 'string', 'wiggle', 'rated', 'toy.', 'fidgets', 'infants', 'teeter', 'epilepsy', 'disabilities', 'who', 'gadget', 'cosas', 'gummy', 'chuckle', 'items', 'activities', 'company', 'hdhehdj', 'snakes', 'autism+equipment', 'toys', 'bands', 'weighted', 'nedoh', 'buddy', 'rick', 'paths', 'figits', 'by', 'doh', 'water', 'squirting', 'chewy', 'preschoolers', 'roar', 'individuals', 'springs', 'tearing', 'sbunmo', 'sequin', 'hand', 'srtaw', 'de', 'pull', 'cuddle', 'sttetching', 'prek', 'whats', 'toysyage', 'ausitm', 'visually', 'productos', 'glow', 'play', 'toddler', 'boy', 'meeds', 'touch', 'stimulation', 'grass', 'hit', 'twiddle', 'objects', 'sphere', 'big', 'preschool', 'control', 'friendly', 'sillicon', '5', 'relief', 'frog', 'stretcher', '5-7autistic', 'again', 'adhesive', '80s', 'adhd', 'stem', 'emotional', 'great', 'scenery', 'jelly', '|', 'decorations', 'juguete', 'middle', 'alzheimers', 'stuffers', '8-10', 'traits', 'bun', 'kid', 'imagine', 'sesory', 'discs', 'devices', 'education', 'quiet', 'tentacle', 'thing', 'equipment', 'magnetic', 'dark', 'soft', 'vat', 'figit', 'bunno', 'my', 'textures', 'juego', 'six', 'toy', 'lollipop', 'frame', '-', 'pen', 'functional', 'relief,', 'todler', 'seeking', 'products', 'management', 'tools', 'sensory', 'macdonald', 'keep', 'boutique', 'gear', 'rett', 'straw', 'bin', 'textile', 'specialkids.company', 'pipes', 'sucking', 'trading', 'materials', 'ruler', 'art', 'impresa', 'pb&j', 'autistic', 'severely', 'super', 'tapping', 'ciegos', '1-2', 'matching', 'strechy', 'bumpie', 'stretch', 'grab', 'moluk', 'wicky', 'jit', '10', 'support', 'disabled', 'brush', 'ass', 'pad', 'furniture', 'strong', 'beads', 'glitter', 'fidgeting', 'slime', 'nonverbal', 'have', 'dino', 'putty', 'feely', 'resistance', 'a', 'z-vibe', 'gyroscope', 'sign', 'autismo', 'vibrating', 'small', 'figetget', 'mouthing', 'restrainer', 'dido', 'resources', 'cerebral', 'plush', 'puffer', 'accessories', 'must', '1']\n"
     ]
    }
   ],
   "source": [
    "# Extract unique words\n",
    "unique_words = list(set(all_words))\n",
    "print(f\"Number of unique words: {len(unique_words)}\")\n",
    "print(unique_words)"
   ]
  },
  {
   "cell_type": "markdown",
   "id": "32d1c04d-676e-4315-b73a-bdc8efa844ad",
   "metadata": {},
   "source": [
    "- Use generative AI (Chat GPT, Claude) to extract only the brand names from the word list and create a list."
   ]
  },
  {
   "cell_type": "code",
   "execution_count": 25,
   "id": "297df442-c9f7-4c95-8555-0b10eb1f03cb",
   "metadata": {},
   "outputs": [],
   "source": [
    "brand_names = [\n",
    "    'chewigem', \n",
    "    'fidgetland', \n",
    "    'specialkids.company', \n",
    "    'figetget', \n",
    "    'fidgettoys', \n",
    "    'bunmo', \n",
    "    'squishy', \n",
    "    'chewy', \n",
    "    'speks', \n",
    "    'z-vibe', \n",
    "    'fidget', \n",
    "    'figet', \n",
    "    'moluk', \n",
    "    'oombee', \n",
    "    'flipazoo', \n",
    "    'bunmoo', \n",
    "    'needoh', \n",
    "    'tangle'\n",
    "]\n"
   ]
  },
  {
   "cell_type": "code",
   "execution_count": 26,
   "id": "ff3a4686-08f7-4489-a1ca-21d60850d50d",
   "metadata": {},
   "outputs": [
    {
     "data": {
      "image/png": "[encoded data removed]",
      "text/plain": [
       "<Figure size 1200x800 with 1 Axes>"
      ]
     },
     "metadata": {},
     "output_type": "display_data"
    }
   ],
   "source": [
    "# Function to categorize queries containing brand keywords as 'brand' or 'non-brand'\n",
    "def categorize_query(query):\n",
    "    for brand in brand_names:\n",
    "        if brand in query.lower():\n",
    "            return 'brand'\n",
    "    return 'non-brand'\n",
    "\n",
    "df['category'] = df['search_query'].apply(categorize_query)\n",
    "\n",
    "metrics = df[['category', 'clk_click_rate', 'cart_add_rate', 'pur_purchase_rate']].melt(\n",
    "    id_vars=['category'], value_vars=['clk_click_rate', 'cart_add_rate', 'pur_purchase_rate'],\n",
    "    var_name='metric', value_name='rate')\n",
    "\n",
    "plt.figure(figsize=(12, 8))\n",
    "sns.boxplot(data=metrics, x='category', y='rate', hue='metric', palette=\"Set2\", showfliers=False)\n",
    "plt.title('Comparison of Key Metrics between Brand and Non-Brand Keywords')\n",
    "plt.ylabel('Rate')\n",
    "plt.xlabel('Keyword Type')\n",
    "plt.legend(title='Metrics', loc='upper right')\n",
    "plt.show()\n"
   ]
  },
  {
   "cell_type": "markdown",
   "id": "c9ac6be8-11d2-486d-8e5b-f5842438da31",
   "metadata": {},
   "source": [
    "**Brand Queries**:\n",
    "- **Generally Higher Performance**: Brand-related queries show higher values across all metrics (Click Rate, Cart Add Rate, and Purchase Rate). This indicates that queries containing brand keywords tend to generate more user engagement and higher conversion rates.\n",
    "- **Higher Median**: The median line for brand queries is positioned higher compared to non-brand queries. This suggests that brand-related queries attract more attention and lead to more clicks, higher cart add rates, and better purchase rates.\n",
    "Wider Interquartile Range: The interquartile range (the box itself) for brand queries is broader. This suggests that while brand-related queries generally show better performance, there may be some outliers in certain cases.\n",
    "\n",
    "**Non-Brand Queries**:\n",
    "- **Lower Performance**: Non-brand queries have a lower median for all metrics compared to brand-related queries. This indicates that queries without brand names typically result in lower user engagement and conversion rates.\n",
    "- **Outliers**: There are some outliers in non-brand queries that show unexpectedly high performance. However, these outliers are fewer and less consistent when compared to the ongoing high performance observed in brand-related queries.\n",
    "\n",
    "→ Brand queries generally outperform non-brand queries in terms of user engagement and conversion rates, likely due to higher brand awareness and marketing efforts."
   ]
  },
  {
   "cell_type": "markdown",
   "id": "0a681df8-5ee5-4ae9-abf7-182b125a6b78",
   "metadata": {},
   "source": [
    "## 3. Hypothesis Development"
   ]
  },
  {
   "cell_type": "markdown",
   "id": "de0c259d-4de6-4ac3-a80a-85b5d4c96701",
   "metadata": {},
   "source": [
    "### 3.1 Identified Patterns"
   ]
  },
  {
   "cell_type": "markdown",
   "id": "705fa050-1841-48f7-9fbc-aab89c5df02f",
   "metadata": {},
   "source": [
    "**Click Rate, Cart Add Rate, and Purchase Rate**:  \n",
    "- The click rate is high (90-100%), but cart add and purchase rates are low (0-20%), suggesting high initial user engagement but a significant drop-off in later stages.  \n",
    "\n",
    "  \n",
    "**Brand Queries**:  \n",
    "  - **Higher Performance**: Brand-related queries have higher performance across all metrics (Click Rate, Cart Add Rate, Purchase Rate).  \n",
    "  - **Higher Median & Broader Range**: Brand queries have a higher median and a wider interquartile range, indicating generally better performance with some outliers.  \n",
    "\n",
    "  \n",
    "**Non-Brand Queries**:  \n",
    "  - **Lower Performance**: Non-brand queries perform worse overall.  \n",
    "  - **Outliers**: There are some outliers with unexpectedly high performance, but they are fewer and less consistent.  \n",
    "\n",
    "  \n",
    "**Importance of Brand and Product Keywords**:  \n",
    "  - **TF-IDF** highlights that brand names, product categories, and specific product names are key drivers of user engagement and conversion rates.  \n",
    "\n",
    "\n",
    "\n",
    "**Data Limitations**:  \n",
    "  - The dataset is small (~2600 entries) and focuses on specific themes, limiting keyword diversity.  \n"
   ]
  },
  {
   "cell_type": "markdown",
   "id": "49121b41-6179-48af-aa88-19be3c66bcc2",
   "metadata": {},
   "source": [
    "### 3.2 Formulated Hypotheses"
   ]
  },
  {
   "cell_type": "markdown",
   "id": "14c4f6d3-6eb7-4c4e-8abd-e78f049a1da6",
   "metadata": {
    "jp-MarkdownHeadingCollapsed": true
   },
   "source": [
    "- **Hypothesis**:  \n",
    "  If a search query contains brand-related keywords, the ad click-through rate (```clk_click_rate```) will increase.\n",
    "\n",
    "- **Statistical Analysis**:  \n",
    "  Initially, we plan to test this hypothesis using an **Independent Samples t-test** (also known as a two-sample t-test) to compare the CTRs between the two groups. This test is appropriate because it will allow us to determine if the mean CTR for brand-related queries is significantly different from the mean CTR for non-brand queries.\n"
   ]
  },
  {
   "cell_type": "markdown",
   "id": "8a79b11e-015c-4b61-84c6-c723ae9de8b1",
   "metadata": {},
   "source": [
    "## 4. Hypothesis Testing"
   ]
  },
  {
   "cell_type": "markdown",
   "id": "2eb5fb89-c3c1-4202-bcbf-dae29ffbd07c",
   "metadata": {},
   "source": [
    "### 4.1 Assumption Checks & Data Transformations"
   ]
  },
  {
   "cell_type": "markdown",
   "id": "e6310804-78c2-430c-919c-30829c2a8d82",
   "metadata": {},
   "source": [
    "To test the hypothesis, we first examined the assumptions of the **Independent Samples t-test**, especially the normality assumption, which is critical for the validity of the test.\n",
    "\n",
    "- **Null Hypothesis (H0)**: There is no significant difference in the mean CTR between brand-related and non-brand queries.  \n",
    "  (H0: μ_brand = μ_non_brand)\n",
    "\n",
    "- **Alternative Hypothesis (H1)**: There is a significant difference in the mean CTR between brand-related and non-brand queries.  \n",
    "  (H1: μ_brand ≠ μ_non_brand)"
   ]
  },
  {
   "cell_type": "markdown",
   "id": "293ee018-6b64-4b17-9150-f50936608d54",
   "metadata": {},
   "source": [
    "#### Assumption Checks for Independent Samples t-Test"
   ]
  },
  {
   "cell_type": "markdown",
   "id": "6828fccc-6dc2-485c-986f-228abea898c2",
   "metadata": {},
   "source": [
    "**Normality Test**  \n",
    "Since the Independent Samples t-test requires the assumption of normality, normality tests were conducted to verify that the data met this assumption."
   ]
  },
  {
   "cell_type": "code",
   "execution_count": 29,
   "id": "a0b39e8c-7c78-4b7b-981b-b511daaa65f4",
   "metadata": {
    "scrolled": true
   },
   "outputs": [
    {
     "data": {
      "image/png": "[encoded data removed]",
      "text/plain": [
       "<Figure size 1200x600 with 2 Axes>"
      ]
     },
     "metadata": {},
     "output_type": "display_data"
    }
   ],
   "source": [
    "brand_data = df[df['category'] == 'brand']['clk_click_rate'] \n",
    "non_brand_data = df[df['category'] == 'non-brand']['clk_click_rate']\n",
    "\n",
    "# Histogram\n",
    "sns.set(style=\"whitegrid\")\n",
    "plt.figure(figsize=(12, 6))\n",
    "\n",
    "plt.subplot(1, 2, 1)\n",
    "sns.histplot(brand_data, kde=True, color='blue', bins=30)\n",
    "plt.title(\"Histogram of Brand Data\")\n",
    "\n",
    "plt.subplot(1, 2, 2)\n",
    "sns.histplot(non_brand_data, kde=True, color='red', bins=30)\n",
    "plt.title(\"Histogram of Non-Brand Data\")\n",
    "\n",
    "plt.tight_layout()\n",
    "plt.show()\n"
   ]
  },
  {
   "cell_type": "markdown",
   "id": "9247a2d3-7898-40a6-b5dc-ab86c6c5f4a4",
   "metadata": {},
   "source": [
    "- From the histogram, it can be seen that both datasets are **heavily skewed to the right**. Therefore, based on a rough visualization, it was determined that the data likely does not meet the assumption of normality. Attempts were made to remove outliers."
   ]
  },
  {
   "cell_type": "code",
   "execution_count": 31,
   "id": "7236a85d-00b7-468d-b2cc-e171372d8bc9",
   "metadata": {
    "scrolled": true
   },
   "outputs": [
    {
     "data": {
      "image/png": "[encoded data removed]",
      "text/plain": [
       "<Figure size 1200x600 with 2 Axes>"
      ]
     },
     "metadata": {},
     "output_type": "display_data"
    }
   ],
   "source": [
    "# Outlier criteria: Below Q1 - 1.5IQR or above Q3 + 1.5IQR\n",
    "\n",
    "# Brand Data Outlier Removal\n",
    "Q1_brand = brand_data.quantile(0.25)\n",
    "Q3_brand = brand_data.quantile(0.75)\n",
    "IQR_brand = Q3_brand - Q1_brand\n",
    "lower_bound_brand = Q1_brand - 1.5 * IQR_brand\n",
    "upper_bound_brand = Q3_brand + 1.5 * IQR_brand\n",
    "brand_data_no_outliers = brand_data[(brand_data >= lower_bound_brand) & (brand_data <= upper_bound_brand)]\n",
    "\n",
    "# Non-Brand Data Outlier Removal\n",
    "Q1_non_brand = non_brand_data.quantile(0.25)\n",
    "Q3_non_brand = non_brand_data.quantile(0.75)\n",
    "IQR_non_brand = Q3_non_brand - Q1_non_brand\n",
    "lower_bound_non_brand = Q1_non_brand - 1.5 * IQR_non_brand\n",
    "upper_bound_non_brand = Q3_non_brand + 1.5 * IQR_non_brand\n",
    "non_brand_data_no_outliers = non_brand_data[(non_brand_data >= lower_bound_non_brand) & (non_brand_data <= upper_bound_non_brand)]\n",
    "\n",
    "sns.set(style=\"whitegrid\")\n",
    "plt.figure(figsize=(12, 6))\n",
    "\n",
    "# Brand data histogram\n",
    "plt.subplot(1, 2, 1)\n",
    "sns.histplot(brand_data_no_outliers, kde=True, color='blue', bins=30)\n",
    "plt.title(\"Histogram of Brand Data (No Outliers)\")\n",
    "\n",
    "# Non-brand data histogram\n",
    "plt.subplot(1, 2, 2)\n",
    "sns.histplot(non_brand_data_no_outliers, kde=True, color='red', bins=30)\n",
    "plt.title(\"Histogram of Non-Brand Data (No Outliers)\")\n",
    "\n",
    "plt.tight_layout()\n",
    "plt.show()\n"
   ]
  },
  {
   "cell_type": "markdown",
   "id": "2debd560-1c23-4db5-8c6e-eb8bf8831a09",
   "metadata": {},
   "source": [
    "- Even after removing outliers, it can still be observed that the data is heavily skewed to the right.\n",
    "- To meet the normality assumption, attempts were made to apply log transformation and square root transformation, as the data values are all greater than zero."
   ]
  },
  {
   "cell_type": "code",
   "execution_count": 34,
   "id": "64d3418d-534e-421b-8894-6d0f342cfd62",
   "metadata": {
    "scrolled": true
   },
   "outputs": [
    {
     "data": {
      "image/png": "[encoded data removed]",
      "text/plain": [
       "<Figure size 1200x600 with 2 Axes>"
      ]
     },
     "metadata": {},
     "output_type": "display_data"
    }
   ],
   "source": [
    "import numpy as np\n",
    "\n",
    "brand_data_log = np.log1p(brand_data)  \n",
    "non_brand_data_log = np.log1p(non_brand_data)\n",
    "\n",
    "sns.set(style=\"whitegrid\")\n",
    "\n",
    "plt.figure(figsize=(12, 6))\n",
    "\n",
    "plt.subplot(1, 2, 1)\n",
    "sns.histplot(brand_data_log, kde=True, color='blue', bins=30)\n",
    "plt.title(\"Log Transformed Brand Data\")\n",
    "\n",
    "plt.subplot(1, 2, 2)\n",
    "sns.histplot(non_brand_data_log, kde=True, color='red', bins=30)\n",
    "plt.title(\"Log Transformed Non-Brand Data\")\n",
    "\n",
    "plt.tight_layout()\n",
    "plt.show()"
   ]
  },
  {
   "cell_type": "markdown",
   "id": "aadc6ac0-9ebc-4e16-8b47-500b59732348",
   "metadata": {},
   "source": [
    "- Even after applying log transformation, the data distribution still shows a strong skew to the right.\n",
    "- We then attempted square root transformation."
   ]
  },
  {
   "cell_type": "code",
   "execution_count": 37,
   "id": "10d4e929-569d-4705-b0b6-7bf1ef6424ff",
   "metadata": {},
   "outputs": [
    {
     "data": {
      "image/png": "[encoded data removed]",
      "text/plain": [
       "<Figure size 1200x600 with 2 Axes>"
      ]
     },
     "metadata": {},
     "output_type": "display_data"
    }
   ],
   "source": [
    "# Root transformation\n",
    "brand_data_sqrt = np.sqrt(brand_data)\n",
    "non_brand_data_sqrt = np.sqrt(non_brand_data)\n",
    "\n",
    "sns.set(style=\"whitegrid\")\n",
    "plt.figure(figsize=(12, 6))\n",
    "\n",
    "plt.subplot(1, 2, 1)\n",
    "sns.histplot(brand_data_sqrt, kde=True, color='blue', bins=30)\n",
    "plt.title(\"Square Root Transformed Brand Data\")\n",
    "\n",
    "plt.subplot(1, 2, 2)\n",
    "sns.histplot(non_brand_data_sqrt, kde=True, color='red', bins=30)\n",
    "plt.title(\"Square Root Transformed Non-Brand Data\")\n",
    "\n",
    "plt.tight_layout()\n",
    "plt.show()"
   ]
  },
  {
   "cell_type": "markdown",
   "id": "4b101d5f-8122-4899-a9bf-fd4acd1e3ca5",
   "metadata": {},
   "source": [
    "- Even after transformations, the data still exhibits strong right skew, leading us to decide to use a non-parametric test instead of the t-test"
   ]
  },
  {
   "cell_type": "markdown",
   "id": "a0b319ac-f9f7-496c-a243-0a8a9a2b5e4b",
   "metadata": {},
   "source": [
    "### 4.2 Statistical Test"
   ]
  },
  {
   "cell_type": "markdown",
   "id": "7f3dfa54-bada-42fa-87a0-0f503267c852",
   "metadata": {},
   "source": [
    "Since the data does not meet the assumptions required for parametric testing, we used the **Mann-Whitney U Test**."
   ]
  },
  {
   "cell_type": "code",
   "execution_count": 42,
   "id": "7d09d587-2705-4870-9cf4-17a9a4e0e42b",
   "metadata": {},
   "outputs": [
    {
     "name": "stdout",
     "output_type": "stream",
     "text": [
      "Mann-Whitney U Test statistic: 774240.5\n",
      "P-value: 0.00000000000000000000000000013307297795857700101875\n",
      "There is a significant difference between the two groups (reject H0).\n"
     ]
    }
   ],
   "source": [
    "from scipy.stats import mannwhitneyu\n",
    "\n",
    "# Mann-Whitney U Test\n",
    "stat, p_value = mannwhitneyu(brand_data_no_outliers, non_brand_data_no_outliers, alternative='two-sided')\n",
    "\n",
    "print(\"Mann-Whitney U Test statistic:\", stat)\n",
    "print(f\"P-value: {p_value:.50f}\")\n",
    "\n",
    "if p_value < 0.05:\n",
    "    print(\"There is a significant difference between the two groups (reject H0).\")\n",
    "else:\n",
    "    print(\"There is no significant difference between the two groups (fail to reject H0).\")\n"
   ]
  },
  {
   "cell_type": "markdown",
   "id": "41840788-da1f-456b-8861-401aa3154037",
   "metadata": {},
   "source": [
    "Since the p-value is very small, we reject the null hypothesis. This indicates that **there is a significant difference between the brand-related query group and the non-brand query group.**"
   ]
  },
  {
   "cell_type": "markdown",
   "id": "4091a6e6-a706-418c-98ce-be6cb5bda9eb",
   "metadata": {},
   "source": [
    "### 4.3 Insights"
   ]
  },
  {
   "cell_type": "markdown",
   "id": "c87d0bfe-01bd-407b-b5d8-98665af51677",
   "metadata": {},
   "source": [
    "Based on the results of the Mann-Whitney U Test, we found that there is a significant difference between brand-related and non-brand-related queries in terms of CTR. This insight suggests that **brand-related queries tend to attract more user attention, which could be leveraged to enhance ad targeting strategies.** By focusing on brand-related keywords in search campaigns, it is likely that advertisers can achieve higher engagement rates."
   ]
  },
  {
   "cell_type": "markdown",
   "id": "5d440b44-8200-40ab-8daf-e47fc5c5bf24",
   "metadata": {
    "jp-MarkdownHeadingCollapsed": true
   },
   "source": [
    "### 5. Machine Learning Model"
   ]
  },
  {
   "cell_type": "markdown",
   "id": "c4a6d693-d6f4-4028-9bdd-17c0a00c0831",
   "metadata": {},
   "source": [
    "#### 5.1 Objective"
   ]
  },
  {
   "cell_type": "markdown",
   "id": "64e11f98-764b-42e9-87fb-c9d5dc740c7b",
   "metadata": {},
   "source": [
    "#### 5.2 Feature Engineering"
   ]
  },
  {
   "cell_type": "markdown",
   "id": "c6ef0314-2c88-4966-b4d4-86542a60300b",
   "metadata": {},
   "source": [
    "#### 5.3 Model Selection"
   ]
  },
  {
   "cell_type": "markdown",
   "id": "66e33edb-e325-4986-bfb4-73b1bad47324",
   "metadata": {},
   "source": [
    "#### 5.4 Model Training and Evaluation"
   ]
  },
  {
   "cell_type": "markdown",
   "id": "99183b4d-625c-4896-bcdd-d8a7ee21311f",
   "metadata": {},
   "source": [
    "### 6. Results and Discussion"
   ]
  },
  {
   "cell_type": "markdown",
   "id": "5ff97acc-23e0-459c-8c57-bef54643d2c7",
   "metadata": {},
   "source": [
    "#### 6.1 Comparison of Groups(가설 검증 결과 요약.)"
   ]
  },
  {
   "cell_type": "markdown",
   "id": "2a669b27-831b-4a6c-9e38-fd711b08b885",
   "metadata": {},
   "source": [
    "#### 6.2 Model Insights(머신러닝 결과와 주요 특징 해석.)"
   ]
  },
  {
   "cell_type": "markdown",
   "id": "18edff4a-044e-42da-ba63-e7982b40c3d7",
   "metadata": {},
   "source": [
    "#### 6.3 Business Implications(데이터 기반 제언)"
   ]
  },
  {
   "cell_type": "code",
   "execution_count": null,
   "id": "a4c737a3-f2e6-4b9f-a832-6954b69b66e2",
   "metadata": {},
   "outputs": [],
   "source": []
  },
  {
   "cell_type": "code",
   "execution_count": null,
   "id": "7ab2126a-ae6d-4517-b7ef-abbaa1a05173",
   "metadata": {},
   "outputs": [],
   "source": []
  },
  {
   "cell_type": "code",
   "execution_count": null,
   "id": "3620bb03-6d3a-4140-a2ac-285e0e2a0a14",
   "metadata": {},
   "outputs": [],
   "source": []
  },
  {
   "cell_type": "code",
   "execution_count": null,
   "id": "2c8f69e4-a62c-4004-8243-d51f2637f441",
   "metadata": {},
   "outputs": [],
   "source": []
  },
  {
   "cell_type": "code",
   "execution_count": null,
   "id": "24ffb52b-4fde-475c-8400-331276144823",
   "metadata": {},
   "outputs": [],
   "source": []
  },
  {
   "cell_type": "code",
   "execution_count": null,
   "id": "674ef6a1-fc86-4be7-a832-12334207886e",
   "metadata": {},
   "outputs": [],
   "source": []
  }
 ],
 "metadata": {
  "kernelspec": {
   "display_name": "Python 3 (ipykernel)",
   "language": "python",
   "name": "python3"
  },
  "language_info": {
   "codemirror_mode": {
    "name": "ipython",
    "version": 3
   },
   "file_extension": ".py",
   "mimetype": "text/x-python",
   "name": "python",
   "nbconvert_exporter": "python",
   "pygments_lexer": "ipython3",
   "version": "3.13.0"
  }
 },
 "nbformat": 4,
 "nbformat_minor": 5
}
